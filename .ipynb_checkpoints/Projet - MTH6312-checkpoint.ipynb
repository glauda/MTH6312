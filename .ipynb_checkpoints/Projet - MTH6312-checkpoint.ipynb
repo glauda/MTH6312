{
 "cells": [
  {
   "cell_type": "markdown",
   "metadata": {},
   "source": [
    "# Projet apprentissage stat"
   ]
  },
  {
   "cell_type": "markdown",
   "metadata": {},
   "source": [
    "**Objectif** : Prédire la variable $\\texttt{Walc}$  \n",
    "\n",
    "Méthodes de régression étudiées\n",
    "* Régression linéaire\n",
    "* KNN (pour une régression)\n",
    "* splines "
   ]
  },
  {
   "cell_type": "markdown",
   "metadata": {},
   "source": [
    "source DB : https://www.kaggle.com/uciml/student-alcohol-consumption  \n",
    "Etude sur les élèves du cours de portugais"
   ]
  },
  {
   "cell_type": "markdown",
   "metadata": {},
   "source": [
    "**Données d'entrainement** : 500 étudiants  \n",
    "**Données de test** : 149 étudiants\n",
    "\n",
    "**Réduction de dimension** : on applique une ACP sur les données d'entrainement pour supprimer des variables quantitatives / on peut appliquer une MCA (Multiple correspondence analysis) qui traite les données qualitatives et quantitatives"
   ]
  },
  {
   "cell_type": "code",
   "execution_count": 1,
   "metadata": {},
   "outputs": [
    {
     "name": "stderr",
     "output_type": "stream",
     "text": [
      "Loading required package: Matrix\n",
      "Loaded glmnet 3.0-2\n",
      "\n",
      "\n",
      "Attaching package: 'glmnetUtils'\n",
      "\n",
      "The following objects are masked from 'package:glmnet':\n",
      "\n",
      "    cv.glmnet, glmnet\n",
      "\n"
     ]
    }
   ],
   "source": [
    "rm(list=ls())\n",
    "library(ISLR)\n",
    "library(boot)\n",
    "library (glmnet)\n",
    "library(glmnetUtils)"
   ]
  },
  {
   "cell_type": "markdown",
   "metadata": {},
   "source": [
    "# Observation des données"
   ]
  },
  {
   "cell_type": "code",
   "execution_count": 182,
   "metadata": {},
   "outputs": [
    {
     "data": {
      "text/html": [
       "<ol class=list-inline>\n",
       "\t<li>649</li>\n",
       "\t<li>33</li>\n",
       "</ol>\n"
      ],
      "text/latex": [
       "\\begin{enumerate*}\n",
       "\\item 649\n",
       "\\item 33\n",
       "\\end{enumerate*}\n"
      ],
      "text/markdown": [
       "1. 649\n",
       "2. 33\n",
       "\n",
       "\n"
      ],
      "text/plain": [
       "[1] 649  33"
      ]
     },
     "metadata": {},
     "output_type": "display_data"
    },
    {
     "data": {
      "text/html": [
       "<table>\n",
       "<thead><tr><th></th><th scope=col>school</th><th scope=col>sex</th><th scope=col>age</th><th scope=col>address</th><th scope=col>famsize</th><th scope=col>Pstatus</th><th scope=col>Medu</th><th scope=col>Fedu</th><th scope=col>Mjob</th><th scope=col>Fjob</th><th scope=col>...</th><th scope=col>famrel</th><th scope=col>freetime</th><th scope=col>goout</th><th scope=col>Dalc</th><th scope=col>Walc</th><th scope=col>health</th><th scope=col>absences</th><th scope=col>G1</th><th scope=col>G2</th><th scope=col>G3</th></tr></thead>\n",
       "<tbody>\n",
       "\t<tr><th scope=row>489</th><td>MS      </td><td>F       </td><td>19      </td><td>U       </td><td>GT3     </td><td>T       </td><td>1       </td><td>1       </td><td>at_home </td><td>services</td><td>...     </td><td>5       </td><td>3       </td><td>1       </td><td>1       </td><td>1       </td><td>3       </td><td> 6      </td><td> 7      </td><td> 9      </td><td> 9      </td></tr>\n",
       "\t<tr><th scope=row>135</th><td>GP      </td><td>F       </td><td>17      </td><td>U       </td><td>LE3     </td><td>T       </td><td>2       </td><td>2       </td><td>other   </td><td>other   </td><td>...     </td><td>3       </td><td>4       </td><td>4       </td><td>1       </td><td>3       </td><td>5       </td><td> 2      </td><td>13      </td><td>12      </td><td>12      </td></tr>\n",
       "\t<tr><th scope=row>184</th><td>GP      </td><td>F       </td><td>16      </td><td>U       </td><td>GT3     </td><td>T       </td><td>4       </td><td>4       </td><td>health  </td><td>health  </td><td>...     </td><td>4       </td><td>4       </td><td>2       </td><td>1       </td><td>1       </td><td>3       </td><td> 0      </td><td>16      </td><td>16      </td><td>17      </td></tr>\n",
       "\t<tr><th scope=row>265</th><td>GP      </td><td>F       </td><td>17      </td><td>U       </td><td>LE3     </td><td>A       </td><td>2       </td><td>2       </td><td>other   </td><td>other   </td><td>...     </td><td>3       </td><td>1       </td><td>2       </td><td>1       </td><td>1       </td><td>1       </td><td> 8      </td><td>11      </td><td> 9      </td><td>10      </td></tr>\n",
       "\t<tr><th scope=row>203</th><td>GP      </td><td>F       </td><td>17      </td><td>U       </td><td>GT3     </td><td>A       </td><td>3       </td><td>3       </td><td>health  </td><td>other   </td><td>...     </td><td>3       </td><td>3       </td><td>3       </td><td>1       </td><td>3       </td><td>3       </td><td>10      </td><td>12      </td><td>13      </td><td>14      </td></tr>\n",
       "\t<tr><th scope=row>229</th><td>GP      </td><td>F       </td><td>17      </td><td>R       </td><td>LE3     </td><td>T       </td><td>4       </td><td>4       </td><td>services</td><td>other   </td><td>...     </td><td>5       </td><td>2       </td><td>1       </td><td>1       </td><td>2       </td><td>3       </td><td> 6      </td><td>12      </td><td>11      </td><td>11      </td></tr>\n",
       "</tbody>\n",
       "</table>\n"
      ],
      "text/latex": [
       "\\begin{tabular}{r|lllllllllllllllllllllllllllllllll}\n",
       "  & school & sex & age & address & famsize & Pstatus & Medu & Fedu & Mjob & Fjob & ... & famrel & freetime & goout & Dalc & Walc & health & absences & G1 & G2 & G3\\\\\n",
       "\\hline\n",
       "\t489 & MS         & F          & 19         & U          & GT3        & T          & 1          & 1          & at\\_home  & services   & ...        & 5          & 3          & 1          & 1          & 1          & 3          &  6         &  7         &  9         &  9        \\\\\n",
       "\t135 & GP       & F        & 17       & U        & LE3      & T        & 2        & 2        & other    & other    & ...      & 3        & 4        & 4        & 1        & 3        & 5        &  2       & 13       & 12       & 12      \\\\\n",
       "\t184 & GP       & F        & 16       & U        & GT3      & T        & 4        & 4        & health   & health   & ...      & 4        & 4        & 2        & 1        & 1        & 3        &  0       & 16       & 16       & 17      \\\\\n",
       "\t265 & GP       & F        & 17       & U        & LE3      & A        & 2        & 2        & other    & other    & ...      & 3        & 1        & 2        & 1        & 1        & 1        &  8       & 11       &  9       & 10      \\\\\n",
       "\t203 & GP       & F        & 17       & U        & GT3      & A        & 3        & 3        & health   & other    & ...      & 3        & 3        & 3        & 1        & 3        & 3        & 10       & 12       & 13       & 14      \\\\\n",
       "\t229 & GP       & F        & 17       & R        & LE3      & T        & 4        & 4        & services & other    & ...      & 5        & 2        & 1        & 1        & 2        & 3        &  6       & 12       & 11       & 11      \\\\\n",
       "\\end{tabular}\n"
      ],
      "text/markdown": [
       "\n",
       "| <!--/--> | school | sex | age | address | famsize | Pstatus | Medu | Fedu | Mjob | Fjob | ... | famrel | freetime | goout | Dalc | Walc | health | absences | G1 | G2 | G3 |\n",
       "|---|---|---|---|---|---|---|---|---|---|---|---|---|---|---|---|---|---|---|---|---|---|\n",
       "| 489 | MS       | F        | 19       | U        | GT3      | T        | 1        | 1        | at_home  | services | ...      | 5        | 3        | 1        | 1        | 1        | 3        |  6       |  7       |  9       |  9       |\n",
       "| 135 | GP       | F        | 17       | U        | LE3      | T        | 2        | 2        | other    | other    | ...      | 3        | 4        | 4        | 1        | 3        | 5        |  2       | 13       | 12       | 12       |\n",
       "| 184 | GP       | F        | 16       | U        | GT3      | T        | 4        | 4        | health   | health   | ...      | 4        | 4        | 2        | 1        | 1        | 3        |  0       | 16       | 16       | 17       |\n",
       "| 265 | GP       | F        | 17       | U        | LE3      | A        | 2        | 2        | other    | other    | ...      | 3        | 1        | 2        | 1        | 1        | 1        |  8       | 11       |  9       | 10       |\n",
       "| 203 | GP       | F        | 17       | U        | GT3      | A        | 3        | 3        | health   | other    | ...      | 3        | 3        | 3        | 1        | 3        | 3        | 10       | 12       | 13       | 14       |\n",
       "| 229 | GP       | F        | 17       | R        | LE3      | T        | 4        | 4        | services | other    | ...      | 5        | 2        | 1        | 1        | 2        | 3        |  6       | 12       | 11       | 11       |\n",
       "\n"
      ],
      "text/plain": [
       "    school sex age address famsize Pstatus Medu Fedu Mjob     Fjob     ...\n",
       "489 MS     F   19  U       GT3     T       1    1    at_home  services ...\n",
       "135 GP     F   17  U       LE3     T       2    2    other    other    ...\n",
       "184 GP     F   16  U       GT3     T       4    4    health   health   ...\n",
       "265 GP     F   17  U       LE3     A       2    2    other    other    ...\n",
       "203 GP     F   17  U       GT3     A       3    3    health   other    ...\n",
       "229 GP     F   17  R       LE3     T       4    4    services other    ...\n",
       "    famrel freetime goout Dalc Walc health absences G1 G2 G3\n",
       "489 5      3        1     1    1    3       6        7  9  9\n",
       "135 3      4        4     1    3    5       2       13 12 12\n",
       "184 4      4        2     1    1    3       0       16 16 17\n",
       "265 3      1        2     1    1    1       8       11  9 10\n",
       "203 3      3        3     1    3    3      10       12 13 14\n",
       "229 5      2        1     1    2    3       6       12 11 11"
      ]
     },
     "metadata": {},
     "output_type": "display_data"
    }
   ],
   "source": [
    "d=read.table(\"student-por.csv\",sep=\",\",header=TRUE)\n",
    "n = dim(d)[1]\n",
    "set.seed(2036125)\n",
    "d = d[sample(1:n), ]\n",
    "\n",
    "dim(d)\n",
    "head(d)\n",
    "indWalc = which(\"Walc\"==colnames(d))"
   ]
  },
  {
   "cell_type": "code",
   "execution_count": 183,
   "metadata": {},
   "outputs": [
    {
     "name": "stdout",
     "output_type": "stream",
     "text": [
      "'data.frame':\t649 obs. of  33 variables:\n",
      " $ school    : Factor w/ 2 levels \"GP\",\"MS\": 2 1 1 1 1 1 1 2 1 1 ...\n",
      " $ sex       : Factor w/ 2 levels \"F\",\"M\": 1 1 1 1 1 1 2 1 2 2 ...\n",
      " $ age       : int  19 17 16 17 17 17 15 17 17 15 ...\n",
      " $ address   : Factor w/ 2 levels \"R\",\"U\": 2 2 2 2 2 1 2 1 2 2 ...\n",
      " $ famsize   : Factor w/ 2 levels \"GT3\",\"LE3\": 1 2 1 2 1 2 1 1 2 2 ...\n",
      " $ Pstatus   : Factor w/ 2 levels \"A\",\"T\": 2 2 2 1 1 2 1 2 1 1 ...\n",
      " $ Medu      : int  1 2 4 2 3 4 2 1 3 3 ...\n",
      " $ Fedu      : int  1 2 4 2 3 4 2 1 2 2 ...\n",
      " $ Mjob      : Factor w/ 5 levels \"at_home\",\"health\",..: 1 3 2 3 2 4 3 1 3 4 ...\n",
      " $ Fjob      : Factor w/ 5 levels \"at_home\",\"health\",..: 4 3 2 3 3 3 3 1 3 3 ...\n",
      " $ reason    : Factor w/ 4 levels \"course\",\"home\",..: 1 1 4 2 4 3 2 1 4 2 ...\n",
      " $ guardian  : Factor w/ 3 levels \"father\",\"mother\",..: 2 1 2 2 2 2 3 1 2 2 ...\n",
      " $ traveltime: int  1 1 1 1 1 1 1 2 1 1 ...\n",
      " $ studytime : int  3 1 2 1 2 1 3 1 2 2 ...\n",
      " $ failures  : int  1 0 0 1 0 0 0 0 0 0 ...\n",
      " $ schoolsup : Factor w/ 2 levels \"no\",\"yes\": 1 1 1 1 1 1 1 1 1 1 ...\n",
      " $ famsup    : Factor w/ 2 levels \"no\",\"yes\": 1 2 2 2 2 2 2 2 2 2 ...\n",
      " $ paid      : Factor w/ 2 levels \"no\",\"yes\": 1 1 1 1 1 1 1 1 1 1 ...\n",
      " $ activities: Factor w/ 2 levels \"no\",\"yes\": 2 1 1 1 1 1 1 2 1 1 ...\n",
      " $ nursery   : Factor w/ 2 levels \"no\",\"yes\": 2 2 2 1 1 2 2 2 2 2 ...\n",
      " $ higher    : Factor w/ 2 levels \"no\",\"yes\": 1 2 2 1 2 2 2 1 2 2 ...\n",
      " $ internet  : Factor w/ 2 levels \"no\",\"yes\": 1 2 2 2 2 1 2 2 2 2 ...\n",
      " $ romantic  : Factor w/ 2 levels \"no\",\"yes\": 2 2 2 1 2 1 2 2 1 1 ...\n",
      " $ famrel    : int  5 3 4 3 3 5 4 3 4 4 ...\n",
      " $ freetime  : int  3 4 4 1 3 2 5 5 4 2 ...\n",
      " $ goout     : int  1 4 2 2 3 1 2 5 4 2 ...\n",
      " $ Dalc      : int  1 1 1 1 1 1 1 2 1 1 ...\n",
      " $ Walc      : int  1 3 1 1 3 2 1 2 2 1 ...\n",
      " $ health    : int  3 5 3 1 3 3 3 4 5 1 ...\n",
      " $ absences  : int  6 2 0 8 10 6 0 3 10 0 ...\n",
      " $ G1        : int  7 13 16 11 12 12 14 10 16 15 ...\n",
      " $ G2        : int  9 12 16 9 13 11 14 11 18 16 ...\n",
      " $ G3        : int  9 12 17 10 14 11 15 10 18 17 ...\n"
     ]
    }
   ],
   "source": [
    "str(d)"
   ]
  },
  {
   "cell_type": "code",
   "execution_count": 184,
   "metadata": {},
   "outputs": [],
   "source": [
    "train = d[1:500,]\n",
    "test = d[501:n,]"
   ]
  },
  {
   "cell_type": "markdown",
   "metadata": {},
   "source": [
    "# Pre processing des données"
   ]
  },
  {
   "cell_type": "code",
   "execution_count": 59,
   "metadata": {
    "scrolled": false
   },
   "outputs": [
    {
     "data": {
      "text/plain": [
       " school   sex          age        address famsize   Pstatus      Medu      \n",
       " GP:327   F:295   Min.   :15.00   R:155   GT3:353   A: 63   Min.   :0.000  \n",
       " MS:173   M:205   1st Qu.:16.00   U:345   LE3:147   T:437   1st Qu.:2.000  \n",
       "                  Median :17.00                             Median :2.000  \n",
       "                  Mean   :16.76                             Mean   :2.516  \n",
       "                  3rd Qu.:18.00                             3rd Qu.:4.000  \n",
       "                  Max.   :22.00                             Max.   :4.000  \n",
       "      Fedu             Mjob           Fjob            reason      guardian  \n",
       " Min.   :0.000   at_home :102   at_home : 31   course    :221   father:114  \n",
       " 1st Qu.:1.000   health  : 33   health  : 14   home      :114   mother:352  \n",
       " Median :2.000   other   :209   other   :281   other     : 58   other : 34  \n",
       " Mean   :2.284   services: 98   services:143   reputation:107               \n",
       " 3rd Qu.:3.000   teacher : 58   teacher : 31                                \n",
       " Max.   :4.000                                                              \n",
       "   traveltime      studytime       failures     schoolsup famsup     paid    \n",
       " Min.   :1.000   Min.   :1.00   Min.   :0.000   no :448   no :201   no :473  \n",
       " 1st Qu.:1.000   1st Qu.:1.00   1st Qu.:0.000   yes: 52   yes:299   yes: 27  \n",
       " Median :1.000   Median :2.00   Median :0.000                                \n",
       " Mean   :1.572   Mean   :1.94   Mean   :0.218                                \n",
       " 3rd Qu.:2.000   3rd Qu.:2.00   3rd Qu.:0.000                                \n",
       " Max.   :4.000   Max.   :4.00   Max.   :3.000                                \n",
       " activities nursery   higher    internet  romantic      famrel     \n",
       " no :254    no :102   no : 57   no :116   no :308   Min.   :1.000  \n",
       " yes:246    yes:398   yes:443   yes:384   yes:192   1st Qu.:4.000  \n",
       "                                                    Median :4.000  \n",
       "                                                    Mean   :3.928  \n",
       "                                                    3rd Qu.:5.000  \n",
       "                                                    Max.   :5.000  \n",
       "    freetime         goout           Dalc            Walc           health     \n",
       " Min.   :1.000   Min.   :1.00   Min.   :1.000   Min.   :1.000   Min.   :1.000  \n",
       " 1st Qu.:3.000   1st Qu.:2.00   1st Qu.:1.000   1st Qu.:1.000   1st Qu.:2.000  \n",
       " Median :3.000   Median :3.00   Median :1.000   Median :2.000   Median :4.000  \n",
       " Mean   :3.166   Mean   :3.18   Mean   :1.528   Mean   :2.314   Mean   :3.542  \n",
       " 3rd Qu.:4.000   3rd Qu.:4.00   3rd Qu.:2.000   3rd Qu.:3.000   3rd Qu.:5.000  \n",
       " Max.   :5.000   Max.   :5.00   Max.   :5.000   Max.   :5.000   Max.   :5.000  \n",
       "    absences            G1              G2              G3      \n",
       " Min.   : 0.000   Min.   : 0.00   Min.   : 0.00   Min.   : 0.0  \n",
       " 1st Qu.: 0.000   1st Qu.:10.00   1st Qu.:10.00   1st Qu.:10.0  \n",
       " Median : 2.000   Median :11.00   Median :11.00   Median :12.0  \n",
       " Mean   : 3.622   Mean   :11.41   Mean   :11.63   Mean   :11.9  \n",
       " 3rd Qu.: 5.250   3rd Qu.:13.00   3rd Qu.:13.00   3rd Qu.:14.0  \n",
       " Max.   :32.000   Max.   :19.00   Max.   :19.00   Max.   :19.0  "
      ]
     },
     "metadata": {},
     "output_type": "display_data"
    },
    {
     "data": {
      "text/html": [
       "79"
      ],
      "text/latex": [
       "79"
      ],
      "text/markdown": [
       "79"
      ],
      "text/plain": [
       "[1] 79"
      ]
     },
     "metadata": {},
     "output_type": "display_data"
    },
    {
     "data": {
      "text/html": [
       "39"
      ],
      "text/latex": [
       "39"
      ],
      "text/markdown": [
       "39"
      ],
      "text/plain": [
       "[1] 39"
      ]
     },
     "metadata": {},
     "output_type": "display_data"
    },
    {
     "data": {
      "text/html": [
       "0.0822525440782481"
      ],
      "text/latex": [
       "0.0822525440782481"
      ],
      "text/markdown": [
       "0.0822525440782481"
      ],
      "text/plain": [
       "[1] 0.08225254"
      ]
     },
     "metadata": {},
     "output_type": "display_data"
    },
    {
     "data": {
      "text/html": [
       "0.11081205873185"
      ],
      "text/latex": [
       "0.11081205873185"
      ],
      "text/markdown": [
       "0.11081205873185"
      ],
      "text/plain": [
       "[1] 0.1108121"
      ]
     },
     "metadata": {},
     "output_type": "display_data"
    },
    {
     "data": {
      "text/html": [
       "0.630007981500869"
      ],
      "text/latex": [
       "0.630007981500869"
      ],
      "text/markdown": [
       "0.630007981500869"
      ],
      "text/plain": [
       "[1] 0.630008"
      ]
     },
     "metadata": {},
     "output_type": "display_data"
    },
    {
     "data": {
      "image/png": "[encoded data removed]",
      "text/plain": [
       "Plot with title \"Histogram of train[, \"absences\"]\""
      ]
     },
     "metadata": {},
     "output_type": "display_data"
    },
    {
     "data": {
      "image/png": "[encoded data removed]",
      "text/plain": [
       "Plot with title \"Histogram of log(train[, \"absences\"] + 1)\""
      ]
     },
     "metadata": {},
     "output_type": "display_data"
    }
   ],
   "source": [
    "summary(train)\n",
    "#Mjob:(health),Fjob:(at_home,health,teacher),guardian:(other),traveltime,failure,paid,[G1+G2+G3]\n",
    "length(train[,\"failures\"][train[,\"failures\"]>0])\n",
    "length(train[,\"famrel\"][train[,\"famrel\"]<3])\n",
    "cor(train[,\"traveltime\"],train[,\"Walc\"])\n",
    "cor(train[,\"failures\"],train[,\"Walc\"])\n",
    "cor(train[,\"Dalc\"],train[,\"Walc\"])\n",
    "hist(train[,\"absences\"])\n",
    "hist(log(train[,\"absences\"]+1))"
   ]
  },
  {
   "cell_type": "code",
   "execution_count": 60,
   "metadata": {},
   "outputs": [],
   "source": [
    "train[,\"Mjob\"][train[,\"Mjob\"]==\"health\"]=\"other\"\n",
    "test[,\"Mjob\"][test[,\"Mjob\"]==\"health\"]=\"other\"\n",
    "\n",
    "train[,\"Fjob\"][train[,\"Fjob\"]==\"health\"|train[,\"Fjob\"]==\"at_home\"|train[,\"Fjob\"]==\"teacher\"]=\"other\"\n",
    "test[,\"Fjob\"][test[,\"Fjob\"]==\"health\"|test[,\"Fjob\"]==\"at_home\"|test[,\"Fjob\"]==\"teacher\"]=\"other\"\n",
    "\n",
    "train[,\"guardian\"][train[,\"guardian\"]==\"other\"]=\"father\"\n",
    "test[,\"guardian\"][test[,\"guardian\"]==\"other\"]=\"father\"\n",
    "\n",
    "train[,\"traveltime\"]=NULL\n",
    "test[,\"traveltime\"]=NULL\n",
    "\n",
    "train[,\"failure\"]=NULL\n",
    "test[,\"failure\"]=NULL\n",
    "\n",
    "train[,\"paid\"]=NULL\n",
    "test[,\"paid\"]=NULL\n",
    "\n",
    "train[,\"G\"]=(train[,\"G1\"]+train[,\"G2\"]+train[,\"G3\"])/3\n",
    "test[,\"G\"]=(test[,\"G1\"]+test[,\"G2\"]+test[,\"G3\"])/3\n",
    "train[,\"G1\"]=NULL\n",
    "test[,\"G1\"]=NULL\n",
    "train[,\"G2\"]=NULL\n",
    "test[,\"G2\"]=NULL\n",
    "train[,\"G3\"]=NULL\n",
    "test[,\"G3\"]=NULL\n",
    "\n",
    "train[,\"logAbsences\"]=log(train[,\"absences\"]+1)\n",
    "test[,\"logAbsences\"]=log(test[,\"absences\"]+1)\n",
    "train[,\"absences\"]=NULL\n",
    "test[,\"absences\"]=NULL"
   ]
  },
  {
   "cell_type": "code",
   "execution_count": 61,
   "metadata": {},
   "outputs": [
    {
     "name": "stdout",
     "output_type": "stream",
     "text": [
      "'data.frame':\t500 obs. of  29 variables:\n",
      " $ school     : Factor w/ 2 levels \"GP\",\"MS\": 2 1 1 1 1 1 1 2 1 1 ...\n",
      " $ sex        : Factor w/ 2 levels \"F\",\"M\": 1 1 1 1 1 1 2 1 2 2 ...\n",
      " $ age        : int  19 17 16 17 17 17 15 17 17 15 ...\n",
      " $ address    : Factor w/ 2 levels \"R\",\"U\": 2 2 2 2 2 1 2 1 2 2 ...\n",
      " $ famsize    : Factor w/ 2 levels \"GT3\",\"LE3\": 1 2 1 2 1 2 1 1 2 2 ...\n",
      " $ Pstatus    : Factor w/ 2 levels \"A\",\"T\": 2 2 2 1 1 2 1 2 1 1 ...\n",
      " $ Medu       : int  1 2 4 2 3 4 2 1 3 3 ...\n",
      " $ Fedu       : int  1 2 4 2 3 4 2 1 2 2 ...\n",
      " $ Mjob       : Factor w/ 5 levels \"at_home\",\"health\",..: 1 3 3 3 3 4 3 1 3 4 ...\n",
      " $ Fjob       : Factor w/ 5 levels \"at_home\",\"health\",..: 4 3 3 3 3 3 3 3 3 3 ...\n",
      " $ reason     : Factor w/ 4 levels \"course\",\"home\",..: 1 1 4 2 4 3 2 1 4 2 ...\n",
      " $ guardian   : Factor w/ 3 levels \"father\",\"mother\",..: 2 1 2 2 2 2 1 1 2 2 ...\n",
      " $ studytime  : int  3 1 2 1 2 1 3 1 2 2 ...\n",
      " $ failures   : int  1 0 0 1 0 0 0 0 0 0 ...\n",
      " $ schoolsup  : Factor w/ 2 levels \"no\",\"yes\": 1 1 1 1 1 1 1 1 1 1 ...\n",
      " $ famsup     : Factor w/ 2 levels \"no\",\"yes\": 1 2 2 2 2 2 2 2 2 2 ...\n",
      " $ activities : Factor w/ 2 levels \"no\",\"yes\": 2 1 1 1 1 1 1 2 1 1 ...\n",
      " $ nursery    : Factor w/ 2 levels \"no\",\"yes\": 2 2 2 1 1 2 2 2 2 2 ...\n",
      " $ higher     : Factor w/ 2 levels \"no\",\"yes\": 1 2 2 1 2 2 2 1 2 2 ...\n",
      " $ internet   : Factor w/ 2 levels \"no\",\"yes\": 1 2 2 2 2 1 2 2 2 2 ...\n",
      " $ romantic   : Factor w/ 2 levels \"no\",\"yes\": 2 2 2 1 2 1 2 2 1 1 ...\n",
      " $ famrel     : int  5 3 4 3 3 5 4 3 4 4 ...\n",
      " $ freetime   : int  3 4 4 1 3 2 5 5 4 2 ...\n",
      " $ goout      : int  1 4 2 2 3 1 2 5 4 2 ...\n",
      " $ Dalc       : int  1 1 1 1 1 1 1 2 1 1 ...\n",
      " $ Walc       : int  1 3 1 1 3 2 1 2 2 1 ...\n",
      " $ health     : int  3 5 3 1 3 3 3 4 5 1 ...\n",
      " $ G          : num  8.33 12.33 16.33 10 13 ...\n",
      " $ logAbsences: num  1.95 1.1 0 2.2 2.4 ...\n"
     ]
    }
   ],
   "source": [
    "str(train)"
   ]
  },
  {
   "cell_type": "markdown",
   "metadata": {},
   "source": [
    "# Regression simple"
   ]
  },
  {
   "cell_type": "code",
   "execution_count": 185,
   "metadata": {},
   "outputs": [
    {
     "data": {
      "text/html": [
       "0.951642890690895"
      ],
      "text/latex": [
       "0.951642890690895"
      ],
      "text/markdown": [
       "0.951642890690895"
      ],
      "text/plain": [
       "[1] 0.9516429"
      ]
     },
     "metadata": {},
     "output_type": "display_data"
    }
   ],
   "source": [
    "lm.fit = lm(Walc~.,data=train)\n",
    "y_pred=predict(lm.fit,test)\n",
    "mean((y_pred-test$Walc)^2)"
   ]
  },
  {
   "cell_type": "code",
   "execution_count": 214,
   "metadata": {},
   "outputs": [
    {
     "ename": "ERROR",
     "evalue": "Error in glm(Walc ~ ., data = d, family = multinomial, subset = 1:500): objet 'multinomial' introuvable\n",
     "output_type": "error",
     "traceback": [
      "Error in glm(Walc ~ ., data = d, family = multinomial, subset = 1:500): objet 'multinomial' introuvable\nTraceback:\n",
      "1. glm(Walc ~ ., data = d, family = multinomial, subset = 1:500)"
     ]
    }
   ],
   "source": [
    "# erreur : faire la regreesion logistique pour plusieurs classes\n",
    "glm.fit = glm(Walc~.,data=d ,family=binomial, subset = 1:500)"
   ]
  },
  {
   "cell_type": "code",
   "execution_count": 186,
   "metadata": {},
   "outputs": [
    {
     "data": {
      "text/plain": [
       "\n",
       "Call:\n",
       "lm(formula = Walc ~ ., data = train)\n",
       "\n",
       "Residuals:\n",
       "     Min       1Q   Median       3Q      Max \n",
       "-3.09420 -0.63852 -0.08487  0.61932  2.91374 \n",
       "\n",
       "Coefficients:\n",
       "                  Estimate Std. Error t value Pr(>|t|)    \n",
       "(Intercept)       0.981611   0.788990   1.244  0.21409    \n",
       "schoolMS         -0.055143   0.104000  -0.530  0.59622    \n",
       "sexM              0.301642   0.095891   3.146  0.00176 ** \n",
       "age               0.001659   0.040274   0.041  0.96716    \n",
       "addressU         -0.050070   0.100905  -0.496  0.61998    \n",
       "famsizeLE3        0.153639   0.095338   1.612  0.10776    \n",
       "PstatusT          0.211900   0.132891   1.595  0.11151    \n",
       "Medu             -0.104986   0.058527  -1.794  0.07350 .  \n",
       "Fedu              0.097362   0.054107   1.799  0.07261 .  \n",
       "Mjobhealth        0.370513   0.211237   1.754  0.08010 .  \n",
       "Mjobother         0.014941   0.117025   0.128  0.89846    \n",
       "Mjobservices      0.074729   0.147045   0.508  0.61155    \n",
       "Mjobteacher       0.304834   0.193305   1.577  0.11550    \n",
       "Fjobhealth       -0.102659   0.314485  -0.326  0.74424    \n",
       "Fjobother        -0.019642   0.181482  -0.108  0.91386    \n",
       "Fjobservices      0.038242   0.190619   0.201  0.84108    \n",
       "Fjobteacher      -0.579192   0.260001  -2.228  0.02639 *  \n",
       "reasonhome       -0.011503   0.111166  -0.103  0.91763    \n",
       "reasonother       0.051944   0.141976   0.366  0.71463    \n",
       "reasonreputation  0.154320   0.117955   1.308  0.19143    \n",
       "guardianmother    0.043045   0.105566   0.408  0.68364    \n",
       "guardianother    -0.374890   0.204763  -1.831  0.06777 .  \n",
       "traveltime       -0.039635   0.062322  -0.636  0.52512    \n",
       "studytime        -0.113865   0.053319  -2.136  0.03325 *  \n",
       "failures          0.001201   0.088235   0.014  0.98915    \n",
       "schoolsupyes     -0.154311   0.144362  -1.069  0.28567    \n",
       "famsupyes        -0.088097   0.089007  -0.990  0.32281    \n",
       "paidyes           0.075328   0.187165   0.402  0.68753    \n",
       "activitiesyes    -0.073017   0.085961  -0.849  0.39609    \n",
       "nurseryyes       -0.155321   0.104719  -1.483  0.13870    \n",
       "higheryes         0.111884   0.148382   0.754  0.45122    \n",
       "internetyes       0.034399   0.106669   0.322  0.74724    \n",
       "romanticyes      -0.043791   0.088928  -0.492  0.62265    \n",
       "famrel           -0.130149   0.044759  -2.908  0.00382 ** \n",
       "freetime         -0.055072   0.043829  -1.257  0.20957    \n",
       "goout             0.334704   0.040664   8.231 1.95e-15 ***\n",
       "Dalc              0.675544   0.049487  13.651  < 2e-16 ***\n",
       "health            0.069937   0.029888   2.340  0.01971 *  \n",
       "absences          0.005766   0.009693   0.595  0.55222    \n",
       "G1               -0.030511   0.031763  -0.961  0.33727    \n",
       "G2               -0.005573   0.040186  -0.139  0.88977    \n",
       "G3                0.007953   0.031598   0.252  0.80140    \n",
       "---\n",
       "Signif. codes:  0 '***' 0.001 '**' 0.01 '*' 0.05 '.' 0.1 ' ' 1\n",
       "\n",
       "Residual standard error: 0.9034 on 458 degrees of freedom\n",
       "Multiple R-squared:  0.5548,\tAdjusted R-squared:  0.515 \n",
       "F-statistic: 13.92 on 41 and 458 DF,  p-value: < 2.2e-16\n"
      ]
     },
     "metadata": {},
     "output_type": "display_data"
    }
   ],
   "source": [
    "summary(lm.fit)"
   ]
  },
  {
   "cell_type": "code",
   "execution_count": 187,
   "metadata": {
    "scrolled": false
   },
   "outputs": [
    {
     "data": {
      "image/png": "[encoded data removed]",
      "text/plain": [
       "Plot with title \"\""
      ]
     },
     "metadata": {},
     "output_type": "display_data"
    }
   ],
   "source": [
    "par(mfrow = c(2,2))\n",
    "plot(lm.fit)"
   ]
  },
  {
   "cell_type": "markdown",
   "metadata": {},
   "source": [
    "# Regression avec régularisation Elastic Net"
   ]
  },
  {
   "cell_type": "code",
   "execution_count": 188,
   "metadata": {},
   "outputs": [],
   "source": [
    "x= model.matrix (Walc∼.,train)[,-1]\n",
    "y= train$Walc\n",
    "\n",
    "n_alpha = 21\n",
    "grid.alpha = seq(0,1, length =n_alpha)\n",
    "grid.lambda =10^ seq (3,-3, length =400)\n",
    "set.seed(2036125)\n",
    "cv.out.elastic = cva.glmnet(x,y,alpha = grid.alpha , lambda =grid.lambda,nfolds = 10)"
   ]
  },
  {
   "cell_type": "code",
   "execution_count": 189,
   "metadata": {},
   "outputs": [
    {
     "data": {
      "text/plain": [
       "Walc ~ school + sex + address + famsize + Pstatus + Mjob + Fjob + \n",
       "    reason + guardian + schoolsup + famsup + paid + activities + \n",
       "    nursery + higher + internet + romantic + s(age, 2) + s(Medu, \n",
       "    2) + s(Fedu, 2) + s(traveltime, 2) + s(studytime, 2) + s(failures, \n",
       "    2) + s(famrel, 2) + s(freetime, 2) + s(goout, 2) + s(Dalc, \n",
       "    2) + s(health, 2) + s(absences, 2) + s(G1, 2) + s(G2, 2) + \n",
       "    s(G3, 2)"
      ]
     },
     "metadata": {},
     "output_type": "display_data"
    },
    {
     "data": {
      "text/html": [
       "<ol class=list-inline>\n",
       "\t<li>'schoolMS'</li>\n",
       "\t<li>'sexM'</li>\n",
       "\t<li>'age'</li>\n",
       "\t<li>'addressU'</li>\n",
       "\t<li>'famsizeLE3'</li>\n",
       "\t<li>'PstatusT'</li>\n",
       "\t<li>'Medu'</li>\n",
       "\t<li>'Fedu'</li>\n",
       "\t<li>'Mjobhealth'</li>\n",
       "\t<li>'Mjobother'</li>\n",
       "\t<li>'Mjobservices'</li>\n",
       "\t<li>'Mjobteacher'</li>\n",
       "\t<li>'Fjobhealth'</li>\n",
       "\t<li>'Fjobother'</li>\n",
       "\t<li>'Fjobservices'</li>\n",
       "\t<li>'Fjobteacher'</li>\n",
       "\t<li>'reasonhome'</li>\n",
       "\t<li>'reasonother'</li>\n",
       "\t<li>'reasonreputation'</li>\n",
       "\t<li>'guardianmother'</li>\n",
       "\t<li>'guardianother'</li>\n",
       "\t<li>'traveltime'</li>\n",
       "\t<li>'studytime'</li>\n",
       "\t<li>'failures'</li>\n",
       "\t<li>'schoolsupyes'</li>\n",
       "\t<li>'famsupyes'</li>\n",
       "\t<li>'paidyes'</li>\n",
       "\t<li>'activitiesyes'</li>\n",
       "\t<li>'nurseryyes'</li>\n",
       "\t<li>'higheryes'</li>\n",
       "\t<li>'internetyes'</li>\n",
       "\t<li>'romanticyes'</li>\n",
       "\t<li>'famrel'</li>\n",
       "\t<li>'freetime'</li>\n",
       "\t<li>'goout'</li>\n",
       "\t<li>'Dalc'</li>\n",
       "\t<li>'health'</li>\n",
       "\t<li>'absences'</li>\n",
       "\t<li>'G1'</li>\n",
       "\t<li>'G2'</li>\n",
       "\t<li>'G3'</li>\n",
       "</ol>\n"
      ],
      "text/latex": [
       "\\begin{enumerate*}\n",
       "\\item 'schoolMS'\n",
       "\\item 'sexM'\n",
       "\\item 'age'\n",
       "\\item 'addressU'\n",
       "\\item 'famsizeLE3'\n",
       "\\item 'PstatusT'\n",
       "\\item 'Medu'\n",
       "\\item 'Fedu'\n",
       "\\item 'Mjobhealth'\n",
       "\\item 'Mjobother'\n",
       "\\item 'Mjobservices'\n",
       "\\item 'Mjobteacher'\n",
       "\\item 'Fjobhealth'\n",
       "\\item 'Fjobother'\n",
       "\\item 'Fjobservices'\n",
       "\\item 'Fjobteacher'\n",
       "\\item 'reasonhome'\n",
       "\\item 'reasonother'\n",
       "\\item 'reasonreputation'\n",
       "\\item 'guardianmother'\n",
       "\\item 'guardianother'\n",
       "\\item 'traveltime'\n",
       "\\item 'studytime'\n",
       "\\item 'failures'\n",
       "\\item 'schoolsupyes'\n",
       "\\item 'famsupyes'\n",
       "\\item 'paidyes'\n",
       "\\item 'activitiesyes'\n",
       "\\item 'nurseryyes'\n",
       "\\item 'higheryes'\n",
       "\\item 'internetyes'\n",
       "\\item 'romanticyes'\n",
       "\\item 'famrel'\n",
       "\\item 'freetime'\n",
       "\\item 'goout'\n",
       "\\item 'Dalc'\n",
       "\\item 'health'\n",
       "\\item 'absences'\n",
       "\\item 'G1'\n",
       "\\item 'G2'\n",
       "\\item 'G3'\n",
       "\\end{enumerate*}\n"
      ],
      "text/markdown": [
       "1. 'schoolMS'\n",
       "2. 'sexM'\n",
       "3. 'age'\n",
       "4. 'addressU'\n",
       "5. 'famsizeLE3'\n",
       "6. 'PstatusT'\n",
       "7. 'Medu'\n",
       "8. 'Fedu'\n",
       "9. 'Mjobhealth'\n",
       "10. 'Mjobother'\n",
       "11. 'Mjobservices'\n",
       "12. 'Mjobteacher'\n",
       "13. 'Fjobhealth'\n",
       "14. 'Fjobother'\n",
       "15. 'Fjobservices'\n",
       "16. 'Fjobteacher'\n",
       "17. 'reasonhome'\n",
       "18. 'reasonother'\n",
       "19. 'reasonreputation'\n",
       "20. 'guardianmother'\n",
       "21. 'guardianother'\n",
       "22. 'traveltime'\n",
       "23. 'studytime'\n",
       "24. 'failures'\n",
       "25. 'schoolsupyes'\n",
       "26. 'famsupyes'\n",
       "27. 'paidyes'\n",
       "28. 'activitiesyes'\n",
       "29. 'nurseryyes'\n",
       "30. 'higheryes'\n",
       "31. 'internetyes'\n",
       "32. 'romanticyes'\n",
       "33. 'famrel'\n",
       "34. 'freetime'\n",
       "35. 'goout'\n",
       "36. 'Dalc'\n",
       "37. 'health'\n",
       "38. 'absences'\n",
       "39. 'G1'\n",
       "40. 'G2'\n",
       "41. 'G3'\n",
       "\n",
       "\n"
      ],
      "text/plain": [
       " [1] \"schoolMS\"         \"sexM\"             \"age\"              \"addressU\"        \n",
       " [5] \"famsizeLE3\"       \"PstatusT\"         \"Medu\"             \"Fedu\"            \n",
       " [9] \"Mjobhealth\"       \"Mjobother\"        \"Mjobservices\"     \"Mjobteacher\"     \n",
       "[13] \"Fjobhealth\"       \"Fjobother\"        \"Fjobservices\"     \"Fjobteacher\"     \n",
       "[17] \"reasonhome\"       \"reasonother\"      \"reasonreputation\" \"guardianmother\"  \n",
       "[21] \"guardianother\"    \"traveltime\"       \"studytime\"        \"failures\"        \n",
       "[25] \"schoolsupyes\"     \"famsupyes\"        \"paidyes\"          \"activitiesyes\"   \n",
       "[29] \"nurseryyes\"       \"higheryes\"        \"internetyes\"      \"romanticyes\"     \n",
       "[33] \"famrel\"           \"freetime\"         \"goout\"            \"Dalc\"            \n",
       "[37] \"health\"           \"absences\"         \"G1\"               \"G2\"              \n",
       "[41] \"G3\"              "
      ]
     },
     "metadata": {},
     "output_type": "display_data"
    }
   ],
   "source": [
    "formula\n",
    "colnames(x)"
   ]
  },
  {
   "cell_type": "code",
   "execution_count": 190,
   "metadata": {},
   "outputs": [
    {
     "data": {
      "image/png": "[encoded data removed]",
      "text/plain": [
       "plot without title"
      ]
     },
     "metadata": {},
     "output_type": "display_data"
    }
   ],
   "source": [
    "res.err = rep(0, n_alpha)\n",
    "res.lambda = rep(0, n_alpha)\n",
    "\n",
    "cpt = 1\n",
    "\n",
    "for (obj in cv.out.elastic$modlist){\n",
    "    \n",
    "    res.err[cpt] = min(obj$cvm)\n",
    "    truc = which.min(obj$cvm)\n",
    "    res.lambda[cpt] = obj$lambda.min\n",
    "    truc2 = obj$nzero[truc]\n",
    "    cpt = cpt + 1\n",
    "    if(cpt == 14){\n",
    "        plot(x=obj$lambda,y=obj$cvm,type=\"l\",log='x')\n",
    "        points(x = obj$lambda[truc],y = obj$cvm[truc])\n",
    "    }\n",
    "    \n",
    "}\n",
    "\n",
    "best.index = which.min(res.err)\n",
    "best.alpha = grid.alpha[best.index]\n",
    "best.lambda = res.lambda[best.index]\n",
    "best.err = res.err[best.index]"
   ]
  },
  {
   "cell_type": "code",
   "execution_count": 191,
   "metadata": {
    "scrolled": false
   },
   "outputs": [
    {
     "name": "stdout",
     "output_type": "stream",
     "text": [
      "List of 11\n",
      " $ lambda    : num [1:400] 1000 966 933 901 871 ...\n",
      " $ cvm       : num [1:400] 1.68 1.68 1.68 1.68 1.68 ...\n",
      " $ cvsd      : num [1:400] 0.105 0.105 0.105 0.105 0.105 ...\n",
      " $ cvup      : num [1:400] 1.79 1.79 1.79 1.79 1.79 ...\n",
      " $ cvlo      : num [1:400] 1.58 1.58 1.58 1.58 1.58 ...\n",
      " $ nzero     : Named int [1:400] 0 0 0 0 0 0 0 0 0 0 ...\n",
      "  ..- attr(*, \"names\")= chr [1:400] \"s0\" \"s1\" \"s2\" \"s3\" ...\n",
      " $ call      : language glmnet::cv.glmnet(x = x, y = y, lambda = ..1, nfolds = nfolds, foldid = foldid,      alpha = a)\n",
      " $ name      : Named chr \"Mean-Squared Error\"\n",
      "  ..- attr(*, \"names\")= chr \"mse\"\n",
      " $ glmnet.fit:List of 12\n",
      "  ..$ a0       : Named num [1:400] 2.31 2.31 2.31 2.31 2.31 ...\n",
      "  .. ..- attr(*, \"names\")= chr [1:400] \"s0\" \"s1\" \"s2\" \"s3\" ...\n",
      "  ..$ beta     :Formal class 'dgCMatrix' [package \"Matrix\"] with 6 slots\n",
      "  .. .. ..@ i       : int [1:4006] 35 35 35 35 35 35 35 35 35 35 ...\n",
      "  .. .. ..@ p       : int [1:401] 0 0 0 0 0 0 0 0 0 0 ...\n",
      "  .. .. ..@ Dim     : int [1:2] 41 400\n",
      "  .. .. ..@ Dimnames:List of 2\n",
      "  .. .. .. ..$ : chr [1:41] \"schoolMS\" \"sexM\" \"age\" \"addressU\" ...\n",
      "  .. .. .. ..$ : chr [1:400] \"s0\" \"s1\" \"s2\" \"s3\" ...\n",
      "  .. .. ..@ x       : num [1:4006] 0.0188 0.0472 0.0747 0.1012 0.1269 ...\n",
      "  .. .. ..@ factors : list()\n",
      "  ..$ df       : int [1:400] 0 0 0 0 0 0 0 0 0 0 ...\n",
      "  ..$ dim      : int [1:2] 41 400\n",
      "  ..$ lambda   : num [1:400] 1000 966 933 901 871 ...\n",
      "  ..$ dev.ratio: num [1:400] 0 0 0 0 0 0 0 0 0 0 ...\n",
      "  ..$ nulldev  : num 840\n",
      "  ..$ npasses  : int 919\n",
      "  ..$ jerr     : int 0\n",
      "  ..$ offset   : logi FALSE\n",
      "  ..$ call     : language glmnet(x = x, y = y, lambda = ..1, alpha = a)\n",
      "  ..$ nobs     : int 500\n",
      "  ..- attr(*, \"class\")= chr [1:2] \"elnet\" \"glmnet\"\n",
      " $ lambda.min: num 0.0278\n",
      " $ lambda.1se: num 0.104\n",
      " - attr(*, \"class\")= chr \"cv.glmnet\"\n"
     ]
    }
   ],
   "source": [
    "str(obj)"
   ]
  },
  {
   "cell_type": "code",
   "execution_count": 192,
   "metadata": {
    "scrolled": true
   },
   "outputs": [
    {
     "data": {
      "text/html": [
       "0.860540434025417"
      ],
      "text/latex": [
       "0.860540434025417"
      ],
      "text/markdown": [
       "0.860540434025417"
      ],
      "text/plain": [
       "[1] 0.8605404"
      ]
     },
     "metadata": {},
     "output_type": "display_data"
    },
    {
     "data": {
      "text/html": [
       "0.0450957213567615"
      ],
      "text/latex": [
       "0.0450957213567615"
      ],
      "text/markdown": [
       "0.0450957213567615"
      ],
      "text/plain": [
       "[1] 0.04509572"
      ]
     },
     "metadata": {},
     "output_type": "display_data"
    },
    {
     "data": {
      "text/html": [
       "0.6"
      ],
      "text/latex": [
       "0.6"
      ],
      "text/markdown": [
       "0.6"
      ],
      "text/plain": [
       "[1] 0.6"
      ]
     },
     "metadata": {},
     "output_type": "display_data"
    },
    {
     "data": {
      "text/html": [
       "13"
      ],
      "text/latex": [
       "13"
      ],
      "text/markdown": [
       "13"
      ],
      "text/plain": [
       "[1] 13"
      ]
     },
     "metadata": {},
     "output_type": "display_data"
    }
   ],
   "source": [
    "best.err \n",
    "best.lambda \n",
    "best.alpha \n",
    "best.index"
   ]
  },
  {
   "cell_type": "code",
   "execution_count": 193,
   "metadata": {},
   "outputs": [
    {
     "data": {
      "image/png": "[encoded data removed]",
      "text/plain": [
       "Plot with title \"Erreur en fonction de alpha\""
      ]
     },
     "metadata": {},
     "output_type": "display_data"
    }
   ],
   "source": [
    "#plot(x=obj$lambda,y=obj$cvm,type=\"b\")\n",
    "plot(x = grid.alpha, y = res.err, pch=19, type=\"b\", xlab = \"Alpha\", ylab = \"MSE\",\n",
    "    main = \"Erreur en fonction de alpha\")\n",
    "\n",
    "points(best.alpha, res.err[best.index], col=\"red\", pch=19)\n",
    "grid.lambda2 =10^ seq (3,-3, length =200)\n",
    "#x_scaled = scale(x[,-1])\n",
    "#model.elastic_scaled=glmnet(x_scaled,y,alpha =best.alpha , lambda =grid.lambda2, standardized = FALSE )\n",
    "\n",
    "#plot(model.elastic_scaled,xvar=\"lambda\",label=TRUE,ylab =\"Standardized Coefficients\")\n",
    "#abline(v =log(best.lambda))"
   ]
  },
  {
   "cell_type": "code",
   "execution_count": 194,
   "metadata": {},
   "outputs": [
    {
     "data": {
      "text/html": [
       "'goout'"
      ],
      "text/latex": [
       "'goout'"
      ],
      "text/markdown": [
       "'goout'"
      ],
      "text/plain": [
       "[1] \"goout\""
      ]
     },
     "metadata": {},
     "output_type": "display_data"
    },
    {
     "data": {
      "text/html": [
       "'freetime'"
      ],
      "text/latex": [
       "'freetime'"
      ],
      "text/markdown": [
       "'freetime'"
      ],
      "text/plain": [
       "[1] \"freetime\""
      ]
     },
     "metadata": {},
     "output_type": "display_data"
    },
    {
     "data": {
      "text/html": [
       "'(Intercept)'"
      ],
      "text/latex": [
       "'(Intercept)'"
      ],
      "text/markdown": [
       "'(Intercept)'"
      ],
      "text/plain": [
       "[1] \"(Intercept)\""
      ]
     },
     "metadata": {},
     "output_type": "display_data"
    },
    {
     "data": {
      "text/html": [
       "41"
      ],
      "text/latex": [
       "41"
      ],
      "text/markdown": [
       "41"
      ],
      "text/plain": [
       "[1] 41"
      ]
     },
     "metadata": {},
     "output_type": "display_data"
    },
    {
     "data": {
      "text/html": [
       "<ol class=list-inline>\n",
       "\t<li>'(Intercept)'</li>\n",
       "\t<li>'sexM'</li>\n",
       "\t<li>'age'</li>\n",
       "\t<li>'addressU'</li>\n",
       "\t<li>'famsizeLE3'</li>\n",
       "\t<li>'PstatusT'</li>\n",
       "\t<li>'Medu'</li>\n",
       "\t<li>'Fedu'</li>\n",
       "\t<li>'Mjobhealth'</li>\n",
       "\t<li>'Mjobother'</li>\n",
       "\t<li>'Mjobservices'</li>\n",
       "\t<li>'Mjobteacher'</li>\n",
       "\t<li>'Fjobhealth'</li>\n",
       "\t<li>'Fjobother'</li>\n",
       "\t<li>'Fjobservices'</li>\n",
       "\t<li>'Fjobteacher'</li>\n",
       "\t<li>'reasonhome'</li>\n",
       "\t<li>'reasonother'</li>\n",
       "\t<li>'reasonreputation'</li>\n",
       "\t<li>'guardianmother'</li>\n",
       "\t<li>'guardianother'</li>\n",
       "\t<li>'traveltime'</li>\n",
       "\t<li>'studytime'</li>\n",
       "\t<li>'failures'</li>\n",
       "\t<li>'schoolsupyes'</li>\n",
       "\t<li>'famsupyes'</li>\n",
       "\t<li>'paidyes'</li>\n",
       "\t<li>'activitiesyes'</li>\n",
       "\t<li>'nurseryyes'</li>\n",
       "\t<li>'higheryes'</li>\n",
       "\t<li>'internetyes'</li>\n",
       "\t<li>'romanticyes'</li>\n",
       "\t<li>'famrel'</li>\n",
       "\t<li>'freetime'</li>\n",
       "\t<li>'goout'</li>\n",
       "\t<li>'Dalc'</li>\n",
       "\t<li>'health'</li>\n",
       "\t<li>'absences'</li>\n",
       "\t<li>'G1'</li>\n",
       "\t<li>'G2'</li>\n",
       "\t<li>'G3'</li>\n",
       "</ol>\n"
      ],
      "text/latex": [
       "\\begin{enumerate*}\n",
       "\\item '(Intercept)'\n",
       "\\item 'sexM'\n",
       "\\item 'age'\n",
       "\\item 'addressU'\n",
       "\\item 'famsizeLE3'\n",
       "\\item 'PstatusT'\n",
       "\\item 'Medu'\n",
       "\\item 'Fedu'\n",
       "\\item 'Mjobhealth'\n",
       "\\item 'Mjobother'\n",
       "\\item 'Mjobservices'\n",
       "\\item 'Mjobteacher'\n",
       "\\item 'Fjobhealth'\n",
       "\\item 'Fjobother'\n",
       "\\item 'Fjobservices'\n",
       "\\item 'Fjobteacher'\n",
       "\\item 'reasonhome'\n",
       "\\item 'reasonother'\n",
       "\\item 'reasonreputation'\n",
       "\\item 'guardianmother'\n",
       "\\item 'guardianother'\n",
       "\\item 'traveltime'\n",
       "\\item 'studytime'\n",
       "\\item 'failures'\n",
       "\\item 'schoolsupyes'\n",
       "\\item 'famsupyes'\n",
       "\\item 'paidyes'\n",
       "\\item 'activitiesyes'\n",
       "\\item 'nurseryyes'\n",
       "\\item 'higheryes'\n",
       "\\item 'internetyes'\n",
       "\\item 'romanticyes'\n",
       "\\item 'famrel'\n",
       "\\item 'freetime'\n",
       "\\item 'goout'\n",
       "\\item 'Dalc'\n",
       "\\item 'health'\n",
       "\\item 'absences'\n",
       "\\item 'G1'\n",
       "\\item 'G2'\n",
       "\\item 'G3'\n",
       "\\end{enumerate*}\n"
      ],
      "text/markdown": [
       "1. '(Intercept)'\n",
       "2. 'sexM'\n",
       "3. 'age'\n",
       "4. 'addressU'\n",
       "5. 'famsizeLE3'\n",
       "6. 'PstatusT'\n",
       "7. 'Medu'\n",
       "8. 'Fedu'\n",
       "9. 'Mjobhealth'\n",
       "10. 'Mjobother'\n",
       "11. 'Mjobservices'\n",
       "12. 'Mjobteacher'\n",
       "13. 'Fjobhealth'\n",
       "14. 'Fjobother'\n",
       "15. 'Fjobservices'\n",
       "16. 'Fjobteacher'\n",
       "17. 'reasonhome'\n",
       "18. 'reasonother'\n",
       "19. 'reasonreputation'\n",
       "20. 'guardianmother'\n",
       "21. 'guardianother'\n",
       "22. 'traveltime'\n",
       "23. 'studytime'\n",
       "24. 'failures'\n",
       "25. 'schoolsupyes'\n",
       "26. 'famsupyes'\n",
       "27. 'paidyes'\n",
       "28. 'activitiesyes'\n",
       "29. 'nurseryyes'\n",
       "30. 'higheryes'\n",
       "31. 'internetyes'\n",
       "32. 'romanticyes'\n",
       "33. 'famrel'\n",
       "34. 'freetime'\n",
       "35. 'goout'\n",
       "36. 'Dalc'\n",
       "37. 'health'\n",
       "38. 'absences'\n",
       "39. 'G1'\n",
       "40. 'G2'\n",
       "41. 'G3'\n",
       "\n",
       "\n"
      ],
      "text/plain": [
       " [1] \"(Intercept)\"      \"sexM\"             \"age\"              \"addressU\"        \n",
       " [5] \"famsizeLE3\"       \"PstatusT\"         \"Medu\"             \"Fedu\"            \n",
       " [9] \"Mjobhealth\"       \"Mjobother\"        \"Mjobservices\"     \"Mjobteacher\"     \n",
       "[13] \"Fjobhealth\"       \"Fjobother\"        \"Fjobservices\"     \"Fjobteacher\"     \n",
       "[17] \"reasonhome\"       \"reasonother\"      \"reasonreputation\" \"guardianmother\"  \n",
       "[21] \"guardianother\"    \"traveltime\"       \"studytime\"        \"failures\"        \n",
       "[25] \"schoolsupyes\"     \"famsupyes\"        \"paidyes\"          \"activitiesyes\"   \n",
       "[29] \"nurseryyes\"       \"higheryes\"        \"internetyes\"      \"romanticyes\"     \n",
       "[33] \"famrel\"           \"freetime\"         \"goout\"            \"Dalc\"            \n",
       "[37] \"health\"           \"absences\"         \"G1\"               \"G2\"              \n",
       "[41] \"G3\"              "
      ]
     },
     "metadata": {},
     "output_type": "display_data"
    },
    {
     "data": {
      "text/html": [
       "<strong>s303:</strong> 24"
      ],
      "text/latex": [
       "\\textbf{s303:} 24"
      ],
      "text/markdown": [
       "**s303:** 24"
      ],
      "text/plain": [
       "s303 \n",
       "  24 "
      ]
     },
     "metadata": {},
     "output_type": "display_data"
    }
   ],
   "source": [
    "rownames(coef(model.elastic_scaled))[35]\n",
    "rownames(coef(model.elastic_scaled))[34]\n",
    "rownames(coef(model.elastic_scaled))[1]\n",
    "length(rownames(coef(model.elastic_scaled)))\n",
    "rownames(coef(model.elastic_scaled))\n",
    "truc2"
   ]
  },
  {
   "cell_type": "code",
   "execution_count": 197,
   "metadata": {},
   "outputs": [
    {
     "data": {
      "text/html": [
       "1.07737951475185"
      ],
      "text/latex": [
       "1.07737951475185"
      ],
      "text/markdown": [
       "1.07737951475185"
      ],
      "text/plain": [
       "[1] 1.07738"
      ]
     },
     "metadata": {},
     "output_type": "display_data"
    }
   ],
   "source": [
    "#model.elastic = glmnet(x,y,alpha = best.lambda, lambda = best.lambda)\n",
    "model.elastic = glmnet(x,y,alpha = 1, lambda = best.lambda)\n",
    "xtest = model.matrix (Walc∼.,test)[,-indWalc]\n",
    "pred.elastic=predict(model.elastic,newx=xtest)\n",
    "mean((pred.elastic-test$Walc)^2)\n"
   ]
  },
  {
   "cell_type": "code",
   "execution_count": 196,
   "metadata": {
    "scrolled": true
   },
   "outputs": [
    {
     "data": {
      "text/html": [
       "<table>\n",
       "<thead><tr><th></th><th scope=col>Prediction</th><th scope=col>True value</th></tr></thead>\n",
       "<tbody>\n",
       "\t<tr><th scope=row>547</th><td>3.361516</td><td>1       </td></tr>\n",
       "\t<tr><th scope=row>224</th><td>1.639531</td><td>1       </td></tr>\n",
       "\t<tr><th scope=row>558</th><td>2.101868</td><td>1       </td></tr>\n",
       "\t<tr><th scope=row>497</th><td>2.578667</td><td>2       </td></tr>\n",
       "\t<tr><th scope=row>98</th><td>2.396888</td><td>1       </td></tr>\n",
       "\t<tr><th scope=row>350</th><td>1.888259</td><td>2       </td></tr>\n",
       "\t<tr><th scope=row>133</th><td>1.599797</td><td>2       </td></tr>\n",
       "\t<tr><th scope=row>197</th><td>2.389801</td><td>3       </td></tr>\n",
       "\t<tr><th scope=row>644</th><td>2.986301</td><td>2       </td></tr>\n",
       "\t<tr><th scope=row>129</th><td>3.463645</td><td>5       </td></tr>\n",
       "\t<tr><th scope=row>126</th><td>3.997829</td><td>2       </td></tr>\n",
       "\t<tr><th scope=row>284</th><td>2.057637</td><td>3       </td></tr>\n",
       "\t<tr><th scope=row>581</th><td>3.672245</td><td>3       </td></tr>\n",
       "\t<tr><th scope=row>342</th><td>3.502427</td><td>3       </td></tr>\n",
       "\t<tr><th scope=row>65</th><td>2.942443</td><td>4       </td></tr>\n",
       "</tbody>\n",
       "</table>\n"
      ],
      "text/latex": [
       "\\begin{tabular}{r|ll}\n",
       "  & Prediction & True value\\\\\n",
       "\\hline\n",
       "\t547 & 3.361516 & 1       \\\\\n",
       "\t224 & 1.639531 & 1       \\\\\n",
       "\t558 & 2.101868 & 1       \\\\\n",
       "\t497 & 2.578667 & 2       \\\\\n",
       "\t98 & 2.396888 & 1       \\\\\n",
       "\t350 & 1.888259 & 2       \\\\\n",
       "\t133 & 1.599797 & 2       \\\\\n",
       "\t197 & 2.389801 & 3       \\\\\n",
       "\t644 & 2.986301 & 2       \\\\\n",
       "\t129 & 3.463645 & 5       \\\\\n",
       "\t126 & 3.997829 & 2       \\\\\n",
       "\t284 & 2.057637 & 3       \\\\\n",
       "\t581 & 3.672245 & 3       \\\\\n",
       "\t342 & 3.502427 & 3       \\\\\n",
       "\t65 & 2.942443 & 4       \\\\\n",
       "\\end{tabular}\n"
      ],
      "text/markdown": [
       "\n",
       "| <!--/--> | Prediction | True value |\n",
       "|---|---|---|\n",
       "| 547 | 3.361516 | 1        |\n",
       "| 224 | 1.639531 | 1        |\n",
       "| 558 | 2.101868 | 1        |\n",
       "| 497 | 2.578667 | 2        |\n",
       "| 98 | 2.396888 | 1        |\n",
       "| 350 | 1.888259 | 2        |\n",
       "| 133 | 1.599797 | 2        |\n",
       "| 197 | 2.389801 | 3        |\n",
       "| 644 | 2.986301 | 2        |\n",
       "| 129 | 3.463645 | 5        |\n",
       "| 126 | 3.997829 | 2        |\n",
       "| 284 | 2.057637 | 3        |\n",
       "| 581 | 3.672245 | 3        |\n",
       "| 342 | 3.502427 | 3        |\n",
       "| 65 | 2.942443 | 4        |\n",
       "\n"
      ],
      "text/plain": [
       "    Prediction True value\n",
       "547 3.361516   1         \n",
       "224 1.639531   1         \n",
       "558 2.101868   1         \n",
       "497 2.578667   2         \n",
       "98  2.396888   1         \n",
       "350 1.888259   2         \n",
       "133 1.599797   2         \n",
       "197 2.389801   3         \n",
       "644 2.986301   2         \n",
       "129 3.463645   5         \n",
       "126 3.997829   2         \n",
       "284 2.057637   3         \n",
       "581 3.672245   3         \n",
       "342 3.502427   3         \n",
       "65  2.942443   4         "
      ]
     },
     "metadata": {},
     "output_type": "display_data"
    }
   ],
   "source": [
    "result = cbind(pred.elastic,test$Walc)\n",
    "colnames(result)[1] = \"Prediction\"\n",
    "colnames(result)[2] = \"True value\"\n",
    "head(result,15)"
   ]
  },
  {
   "cell_type": "markdown",
   "metadata": {},
   "source": [
    "# Spline (changer)"
   ]
  },
  {
   "cell_type": "code",
   "execution_count": 15,
   "metadata": {},
   "outputs": [
    {
     "name": "stderr",
     "output_type": "stream",
     "text": [
      "Loading required package: splines\n",
      "Loading required package: foreach\n",
      "Loaded gam 1.16.1\n",
      "\n"
     ]
    }
   ],
   "source": [
    "library (gam)"
   ]
  },
  {
   "cell_type": "code",
   "execution_count": 16,
   "metadata": {},
   "outputs": [
    {
     "data": {
      "text/html": [
       "<ol class=list-inline>\n",
       "\t<li>'school'</li>\n",
       "\t<li>'sex'</li>\n",
       "\t<li>'age'</li>\n",
       "\t<li>'address'</li>\n",
       "\t<li>'famsize'</li>\n",
       "\t<li>'Pstatus'</li>\n",
       "\t<li>'Medu'</li>\n",
       "\t<li>'Fedu'</li>\n",
       "\t<li>'Mjob'</li>\n",
       "\t<li>'Fjob'</li>\n",
       "\t<li>'reason'</li>\n",
       "\t<li>'guardian'</li>\n",
       "\t<li>'traveltime'</li>\n",
       "\t<li>'studytime'</li>\n",
       "\t<li>'failures'</li>\n",
       "\t<li>'schoolsup'</li>\n",
       "\t<li>'famsup'</li>\n",
       "\t<li>'paid'</li>\n",
       "\t<li>'activities'</li>\n",
       "\t<li>'nursery'</li>\n",
       "\t<li>'higher'</li>\n",
       "\t<li>'internet'</li>\n",
       "\t<li>'romantic'</li>\n",
       "\t<li>'famrel'</li>\n",
       "\t<li>'freetime'</li>\n",
       "\t<li>'goout'</li>\n",
       "\t<li>'Dalc'</li>\n",
       "\t<li>'Walc'</li>\n",
       "\t<li>'health'</li>\n",
       "\t<li>'absences'</li>\n",
       "\t<li>'G1'</li>\n",
       "\t<li>'G2'</li>\n",
       "\t<li>'G3'</li>\n",
       "</ol>\n"
      ],
      "text/latex": [
       "\\begin{enumerate*}\n",
       "\\item 'school'\n",
       "\\item 'sex'\n",
       "\\item 'age'\n",
       "\\item 'address'\n",
       "\\item 'famsize'\n",
       "\\item 'Pstatus'\n",
       "\\item 'Medu'\n",
       "\\item 'Fedu'\n",
       "\\item 'Mjob'\n",
       "\\item 'Fjob'\n",
       "\\item 'reason'\n",
       "\\item 'guardian'\n",
       "\\item 'traveltime'\n",
       "\\item 'studytime'\n",
       "\\item 'failures'\n",
       "\\item 'schoolsup'\n",
       "\\item 'famsup'\n",
       "\\item 'paid'\n",
       "\\item 'activities'\n",
       "\\item 'nursery'\n",
       "\\item 'higher'\n",
       "\\item 'internet'\n",
       "\\item 'romantic'\n",
       "\\item 'famrel'\n",
       "\\item 'freetime'\n",
       "\\item 'goout'\n",
       "\\item 'Dalc'\n",
       "\\item 'Walc'\n",
       "\\item 'health'\n",
       "\\item 'absences'\n",
       "\\item 'G1'\n",
       "\\item 'G2'\n",
       "\\item 'G3'\n",
       "\\end{enumerate*}\n"
      ],
      "text/markdown": [
       "1. 'school'\n",
       "2. 'sex'\n",
       "3. 'age'\n",
       "4. 'address'\n",
       "5. 'famsize'\n",
       "6. 'Pstatus'\n",
       "7. 'Medu'\n",
       "8. 'Fedu'\n",
       "9. 'Mjob'\n",
       "10. 'Fjob'\n",
       "11. 'reason'\n",
       "12. 'guardian'\n",
       "13. 'traveltime'\n",
       "14. 'studytime'\n",
       "15. 'failures'\n",
       "16. 'schoolsup'\n",
       "17. 'famsup'\n",
       "18. 'paid'\n",
       "19. 'activities'\n",
       "20. 'nursery'\n",
       "21. 'higher'\n",
       "22. 'internet'\n",
       "23. 'romantic'\n",
       "24. 'famrel'\n",
       "25. 'freetime'\n",
       "26. 'goout'\n",
       "27. 'Dalc'\n",
       "28. 'Walc'\n",
       "29. 'health'\n",
       "30. 'absences'\n",
       "31. 'G1'\n",
       "32. 'G2'\n",
       "33. 'G3'\n",
       "\n",
       "\n"
      ],
      "text/plain": [
       " [1] \"school\"     \"sex\"        \"age\"        \"address\"    \"famsize\"   \n",
       " [6] \"Pstatus\"    \"Medu\"       \"Fedu\"       \"Mjob\"       \"Fjob\"      \n",
       "[11] \"reason\"     \"guardian\"   \"traveltime\" \"studytime\"  \"failures\"  \n",
       "[16] \"schoolsup\"  \"famsup\"     \"paid\"       \"activities\" \"nursery\"   \n",
       "[21] \"higher\"     \"internet\"   \"romantic\"   \"famrel\"     \"freetime\"  \n",
       "[26] \"goout\"      \"Dalc\"       \"Walc\"       \"health\"     \"absences\"  \n",
       "[31] \"G1\"         \"G2\"         \"G3\"        "
      ]
     },
     "metadata": {},
     "output_type": "display_data"
    }
   ],
   "source": [
    "colnames(train)"
   ]
  },
  {
   "cell_type": "code",
   "execution_count": 17,
   "metadata": {},
   "outputs": [],
   "source": [
    "quali = sapply(train, function(x) is.factor(x))\n",
    "indWalc2 = which(\"Walc\"==colnames(train[!quali]))\n",
    "formula = as.formula(paste(\"Walc~\", paste(names(train)[quali], collapse=\"+\"),\"+\",paste(\"s(\",names(train)[!quali][-indWalc2],\", 2)\", collapse=\"+\")))"
   ]
  },
  {
   "cell_type": "code",
   "execution_count": 18,
   "metadata": {},
   "outputs": [
    {
     "data": {
      "text/plain": [
       "Walc ~ school + sex + address + famsize + Pstatus + Mjob + Fjob + \n",
       "    reason + guardian + schoolsup + famsup + paid + activities + \n",
       "    nursery + higher + internet + romantic + s(age, 2) + s(Medu, \n",
       "    2) + s(Fedu, 2) + s(traveltime, 2) + s(studytime, 2) + s(failures, \n",
       "    2) + s(famrel, 2) + s(freetime, 2) + s(goout, 2) + s(Dalc, \n",
       "    2) + s(health, 2) + s(absences, 2) + s(G1, 2) + s(G2, 2) + \n",
       "    s(G3, 2)"
      ]
     },
     "metadata": {},
     "output_type": "display_data"
    }
   ],
   "source": [
    "formula"
   ]
  },
  {
   "cell_type": "code",
   "execution_count": 19,
   "metadata": {},
   "outputs": [],
   "source": [
    "library(gamclass)"
   ]
  },
  {
   "cell_type": "code",
   "execution_count": 20,
   "metadata": {},
   "outputs": [
    {
     "name": "stderr",
     "output_type": "stream",
     "text": [
      "Warning message in model.matrix.default(mt, mf, contrasts):\n",
      "\"non-list contrasts argument ignored\""
     ]
    },
    {
     "data": {
      "text/html": [
       "149"
      ],
      "text/latex": [
       "149"
      ],
      "text/markdown": [
       "149"
      ],
      "text/plain": [
       "[1] 149"
      ]
     },
     "metadata": {},
     "output_type": "display_data"
    },
    {
     "data": {
      "text/html": [
       "149"
      ],
      "text/latex": [
       "149"
      ],
      "text/markdown": [
       "149"
      ],
      "text/plain": [
       "[1] 149"
      ]
     },
     "metadata": {},
     "output_type": "display_data"
    },
    {
     "data": {
      "text/html": [
       "0.991904204070618"
      ],
      "text/latex": [
       "0.991904204070618"
      ],
      "text/markdown": [
       "0.991904204070618"
      ],
      "text/plain": [
       "[1] 0.9919042"
      ]
     },
     "metadata": {},
     "output_type": "display_data"
    },
    {
     "data": {
      "text/plain": [
       "\n",
       "Call: gam(formula = formula, data = train)\n",
       "Deviance Residuals:\n",
       "     Min       1Q   Median       3Q      Max \n",
       "-2.62486 -0.58601 -0.06384  0.51559  2.46923 \n",
       "\n",
       "(Dispersion Parameter for gaussian family taken to be 0.7449)\n",
       "\n",
       "    Null Deviance: 839.702 on 499 degrees of freedom\n",
       "Residual Deviance: 329.985 on 443.0001 degrees of freedom\n",
       "AIC: 1327.158 \n",
       "\n",
       "Number of Local Scoring Iterations: 2 \n",
       "\n",
       "Anova for Parametric Effects\n",
       "                  Df Sum Sq Mean Sq  F value    Pr(>F)    \n",
       "school             1   0.58   0.583   0.7832 0.3766560    \n",
       "sex                1  77.66  77.655 104.2513 < 2.2e-16 ***\n",
       "address            1   0.00   0.001   0.0015 0.9690561    \n",
       "famsize            1   3.85   3.850   5.1692 0.0234683 *  \n",
       "Pstatus            1   4.16   4.162   5.5876 0.0185187 *  \n",
       "Mjob               4   3.62   0.905   1.2152 0.3035677    \n",
       "Fjob               4  19.68   4.920   6.6057 3.600e-05 ***\n",
       "reason             3   5.30   1.767   2.3724 0.0697455 .  \n",
       "guardian           2   0.36   0.178   0.2395 0.7870916    \n",
       "schoolsup          1   0.24   0.238   0.3193 0.5723328    \n",
       "famsup             1   0.11   0.107   0.1430 0.7054769    \n",
       "paid               1   0.24   0.242   0.3253 0.5687050    \n",
       "activities         1   0.09   0.090   0.1203 0.7288866    \n",
       "nursery            1   5.22   5.221   7.0092 0.0083983 ** \n",
       "higher             1   5.55   5.550   7.4502 0.0065957 ** \n",
       "internet           1   1.54   1.538   2.0653 0.1513889    \n",
       "romantic           1   0.89   0.888   1.1919 0.2755431    \n",
       "s(age, 2)          1   2.76   2.758   3.7023 0.0549774 .  \n",
       "s(Medu, 2)         1   2.86   2.856   3.8343 0.0508424 .  \n",
       "s(Fedu, 2)         1   8.42   8.419  11.3023 0.0008413 ***\n",
       "s(traveltime, 2)   1   1.97   1.974   2.6502 0.1042455    \n",
       "s(studytime, 2)    1  12.78  12.780  17.1576 4.121e-05 ***\n",
       "s(failures, 2)     1   0.64   0.639   0.8583 0.3547239    \n",
       "s(famrel, 2)       1   7.61   7.605  10.2101 0.0014965 ** \n",
       "s(freetime, 2)     1   8.23   8.228  11.0455 0.0009628 ***\n",
       "s(goout, 2)        1 108.25 108.245 145.3176 < 2.2e-16 ***\n",
       "s(Dalc, 2)         1 170.29 170.290 228.6124 < 2.2e-16 ***\n",
       "s(health, 2)       1   2.91   2.911   3.9079 0.0486785 *  \n",
       "s(absences, 2)     1   1.06   1.061   1.4247 0.2332721    \n",
       "s(G1, 2)           1   3.36   3.361   4.5120 0.0342109 *  \n",
       "s(G2, 2)           1   0.25   0.253   0.3395 0.5604083    \n",
       "s(G3, 2)           1   0.25   0.248   0.3323 0.5646062    \n",
       "Residuals        443 329.98   0.745                       \n",
       "---\n",
       "Signif. codes:  0 '***' 0.001 '**' 0.01 '*' 0.05 '.' 0.1 ' ' 1\n",
       "\n",
       "Anova for Nonparametric Effects\n",
       "                 Npar Df Npar F     Pr(F)    \n",
       "(Intercept)                                  \n",
       "school                                       \n",
       "sex                                          \n",
       "address                                      \n",
       "famsize                                      \n",
       "Pstatus                                      \n",
       "Mjob                                         \n",
       "Fjob                                         \n",
       "reason                                       \n",
       "guardian                                     \n",
       "schoolsup                                    \n",
       "famsup                                       \n",
       "paid                                         \n",
       "activities                                   \n",
       "nursery                                      \n",
       "higher                                       \n",
       "internet                                     \n",
       "romantic                                     \n",
       "s(age, 2)              1  1.788   0.18191    \n",
       "s(Medu, 2)             1  0.223   0.63695    \n",
       "s(Fedu, 2)             1  1.337   0.24821    \n",
       "s(traveltime, 2)       1  2.140   0.14421    \n",
       "s(studytime, 2)        1  0.217   0.64130    \n",
       "s(failures, 2)         1  6.293   0.01248 *  \n",
       "s(famrel, 2)           1  0.767   0.38170    \n",
       "s(freetime, 2)         1  0.202   0.65325    \n",
       "s(goout, 2)            1  3.678   0.05578 .  \n",
       "s(Dalc, 2)             1 33.498 1.351e-08 ***\n",
       "s(health, 2)           1  5.517   0.01927 *  \n",
       "s(absences, 2)         1  0.613   0.43419    \n",
       "s(G1, 2)               1  1.365   0.24338    \n",
       "s(G2, 2)               1  2.513   0.11359    \n",
       "s(G3, 2)               1  1.589   0.20817    \n",
       "---\n",
       "Signif. codes:  0 '***' 0.001 '**' 0.01 '*' 0.05 '.' 0.1 ' ' 1"
      ]
     },
     "metadata": {},
     "output_type": "display_data"
    }
   ],
   "source": [
    "gam.m=gam(formula,data=train)\n",
    "pred.gam=predict(gam.m,test)\n",
    "length(pred.gam)\n",
    "length(test$Walc)\n",
    "mean((pred.gam-test$Walc)^2)\n",
    "summary(gam.m)"
   ]
  },
  {
   "cell_type": "code",
   "execution_count": 21,
   "metadata": {},
   "outputs": [
    {
     "ename": "ERROR",
     "evalue": "Error in terms.formula(reformulate(term[i])): formule de modèle incorrecte dans ExtractVars\n",
     "output_type": "error",
     "traceback": [
      "Error in terms.formula(reformulate(term[i])): formule de modèle incorrecte dans ExtractVars\nTraceback:\n",
      "1. CVgam(formula, data = train, nfold = 10, method = \"GCV.Cp\", printit = TRUE, \n .     seed = 2036125)",
      "2. summary(gam(formula, data = data, method = method))",
      "3. gam(formula, data = data, method = method)",
      "4. interpret.gam(formula)",
      "5. interpret.gam0(gf, extra.special = extra.special)",
      "6. eval(parse(text = terms[i]), enclos = p.env, envir = mgcvns)",
      "7. eval(parse(text = terms[i]), enclos = p.env, envir = mgcvns)",
      "8. s(age, 2)",
      "9. terms(reformulate(term[i]))",
      "10. terms.formula(reformulate(term[i]))"
     ]
    }
   ],
   "source": [
    "CVgam(formula, data=train, nfold = 10, method = \"GCV.Cp\",\n",
    "              printit = TRUE, seed = 2036125)"
   ]
  },
  {
   "cell_type": "code",
   "execution_count": null,
   "metadata": {},
   "outputs": [],
   "source": []
  },
  {
   "cell_type": "code",
   "execution_count": null,
   "metadata": {},
   "outputs": [],
   "source": []
  },
  {
   "cell_type": "markdown",
   "metadata": {},
   "source": [
    "# Méthodes d'arbres (CART)\n",
    "Le code de base est écrit pour \n",
    "* arbres de régression\n",
    "* bagging\n",
    "* boosting\n",
    "* random forest"
   ]
  },
  {
   "cell_type": "markdown",
   "metadata": {},
   "source": [
    "**Message d'avertissement dans random forest** : comme on a 5 classes, on nous conseille d'utiliser des arbre de classification plutot que de régression.  \n",
    "Peut être qu'il faut faire pareil avec toutes nos méthodes?  "
   ]
  },
  {
   "cell_type": "code",
   "execution_count": 22,
   "metadata": {},
   "outputs": [],
   "source": [
    "library(tree)"
   ]
  },
  {
   "cell_type": "code",
   "execution_count": 198,
   "metadata": {},
   "outputs": [],
   "source": [
    "indWalc = which(\"Walc\"==colnames(train))\n",
    "y.test = test[,indWalc]"
   ]
  },
  {
   "cell_type": "markdown",
   "metadata": {},
   "source": [
    "## Arbres de régression"
   ]
  },
  {
   "cell_type": "code",
   "execution_count": 199,
   "metadata": {},
   "outputs": [
    {
     "data": {
      "text/plain": [
       "\n",
       "Regression tree:\n",
       "tree(formula = Walc ~ ., data = train)\n",
       "Variables actually used in tree construction:\n",
       "[1] \"Dalc\"      \"goout\"     \"sex\"       \"Mjob\"      \"reason\"    \"studytime\"\n",
       "Number of terminal nodes:  11 \n",
       "Residual mean deviance:  0.7238 = 354 / 489 \n",
       "Distribution of residuals:\n",
       "   Min. 1st Qu.  Median    Mean 3rd Qu.    Max. \n",
       "-2.4040 -0.5756 -0.2105  0.0000  0.4419  3.4240 "
      ]
     },
     "metadata": {},
     "output_type": "display_data"
    }
   ],
   "source": [
    "tree.simple = tree(Walc~., data=train)\n",
    "summary(tree.simple)"
   ]
  },
  {
   "cell_type": "code",
   "execution_count": 200,
   "metadata": {},
   "outputs": [
    {
     "data": {
      "image/png": "[encoded data removed]",
      "text/plain": [
       "plot without title"
      ]
     },
     "metadata": {},
     "output_type": "display_data"
    }
   ],
   "source": [
    "plot(tree.simple)\n",
    "text(tree.simple, pretty=1)"
   ]
  },
  {
   "cell_type": "code",
   "execution_count": 201,
   "metadata": {},
   "outputs": [
    {
     "data": {
      "image/png": "[encoded data removed]",
      "text/plain": [
       "plot without title"
      ]
     },
     "metadata": {},
     "output_type": "display_data"
    }
   ],
   "source": [
    "cv.tree.simple = cv.tree(tree.simple)\n",
    "plot(cv.tree.simple$size ,cv.tree.simple$dev ,type='b')"
   ]
  },
  {
   "cell_type": "code",
   "execution_count": 202,
   "metadata": {},
   "outputs": [
    {
     "data": {
      "image/png": "[encoded data removed]",
      "text/plain": [
       "plot without title"
      ]
     },
     "metadata": {},
     "output_type": "display_data"
    }
   ],
   "source": [
    "prune.simple = prune.tree(tree.simple ,best=5)\n",
    "plot(prune.simple)\n",
    "text(prune.simple, pretty=0) "
   ]
  },
  {
   "cell_type": "code",
   "execution_count": 203,
   "metadata": {},
   "outputs": [
    {
     "name": "stdout",
     "output_type": "stream",
     "text": [
      "Erreur arbre \"simple\" : 1.229797"
     ]
    }
   ],
   "source": [
    "yhat = predict(tree.simple ,newdata = test)\n",
    "#plot(yhat ,y.test)\n",
    "#abline(0,1)\n",
    "cat('Erreur arbre \"simple\" :', mean((yhat -y.test)^2)) "
   ]
  },
  {
   "cell_type": "code",
   "execution_count": 204,
   "metadata": {},
   "outputs": [
    {
     "name": "stdout",
     "output_type": "stream",
     "text": [
      "Erreur arbre élagué : 1.126636"
     ]
    }
   ],
   "source": [
    "yhat2 = predict(prune.simple ,newdata = test)\n",
    "cat('Erreur arbre élagué :', mean((yhat2 -y.test)^2))"
   ]
  },
  {
   "cell_type": "markdown",
   "metadata": {},
   "source": [
    "## Bagging et Random Forest"
   ]
  },
  {
   "cell_type": "code",
   "execution_count": 40,
   "metadata": {},
   "outputs": [
    {
     "name": "stderr",
     "output_type": "stream",
     "text": [
      "randomForest 4.6-14\n",
      "Type rfNews() to see new features/changes/bug fixes.\n"
     ]
    }
   ],
   "source": [
    "library(randomForest)"
   ]
  },
  {
   "cell_type": "code",
   "execution_count": 205,
   "metadata": {},
   "outputs": [
    {
     "name": "stderr",
     "output_type": "stream",
     "text": [
      "Warning message in randomForest.default(m, y, ...):\n",
      "\"The response has five or fewer unique values.  Are you sure you want to do regression?\""
     ]
    },
    {
     "data": {
      "text/plain": [
       "\n",
       "Call:\n",
       " randomForest(formula = Walc ~ ., data = train, mtry = 32, ntree = 500,      importance = TRUE) \n",
       "               Type of random forest: regression\n",
       "                     Number of trees: 500\n",
       "No. of variables tried at each split: 32\n",
       "\n",
       "          Mean of squared residuals: 0.8264532\n",
       "                    % Var explained: 50.79"
      ]
     },
     "metadata": {},
     "output_type": "display_data"
    }
   ],
   "source": [
    "set.seed(2036125)\n",
    "\n",
    "# Bagging\n",
    "bag.Walc = randomForest(Walc~., data=train, mtry=32, ntree = 500, importance=TRUE)\n",
    "bag.Walc"
   ]
  },
  {
   "cell_type": "code",
   "execution_count": 206,
   "metadata": {},
   "outputs": [
    {
     "data": {
      "text/html": [
       "1.16837170927666"
      ],
      "text/latex": [
       "1.16837170927666"
      ],
      "text/markdown": [
       "1.16837170927666"
      ],
      "text/plain": [
       "[1] 1.168372"
      ]
     },
     "metadata": {},
     "output_type": "display_data"
    }
   ],
   "source": [
    "yhat.bag = predict(bag.Walc, newdata=test)\n",
    "#plot(yhat.bag , y.test)\n",
    "#abline(0,1)\n",
    "mean((yhat.bag - y.test)^2)"
   ]
  },
  {
   "cell_type": "code",
   "execution_count": 207,
   "metadata": {},
   "outputs": [
    {
     "name": "stderr",
     "output_type": "stream",
     "text": [
      "Warning message in randomForest.default(m, y, ...):\n",
      "\"The response has five or fewer unique values.  Are you sure you want to do regression?\""
     ]
    },
    {
     "data": {
      "text/html": [
       "1.12400361382385"
      ],
      "text/latex": [
       "1.12400361382385"
      ],
      "text/markdown": [
       "1.12400361382385"
      ],
      "text/plain": [
       "[1] 1.124004"
      ]
     },
     "metadata": {},
     "output_type": "display_data"
    }
   ],
   "source": [
    "set.seed(2036125)\n",
    "\n",
    "# Random Forest (regression)\n",
    "rf.Walc = randomForest(Walc~., data=train, mtry=11, ntree = 1500, importance=TRUE)\n",
    "yhat.rf = predict(rf.Walc, newdata=test)\n",
    "mean((yhat.rf - y.test)^2) "
   ]
  },
  {
   "cell_type": "code",
   "execution_count": 208,
   "metadata": {
    "scrolled": false
   },
   "outputs": [
    {
     "data": {
      "image/png": "[encoded data removed]",
      "text/plain": [
       "plot without title"
      ]
     },
     "metadata": {},
     "output_type": "display_data"
    }
   ],
   "source": [
    "plot(rf.Walc$mse, type = \"l\", xlab = \"nombre d'arbres\", ylab = \"MSE OOB\")"
   ]
  },
  {
   "cell_type": "code",
   "execution_count": 209,
   "metadata": {
    "scrolled": true
   },
   "outputs": [
    {
     "name": "stderr",
     "output_type": "stream",
     "text": [
      "Warning message in randomForest.default(m, y, ...):\n",
      "\"The response has five or fewer unique values.  Are you sure you want to do regression?\"Warning message in randomForest.default(m, y, ...):\n",
      "\"The response has five or fewer unique values.  Are you sure you want to do regression?\"Warning message in randomForest.default(m, y, ...):\n",
      "\"The response has five or fewer unique values.  Are you sure you want to do regression?\"Warning message in randomForest.default(m, y, ...):\n",
      "\"The response has five or fewer unique values.  Are you sure you want to do regression?\"Warning message in randomForest.default(m, y, ...):\n",
      "\"The response has five or fewer unique values.  Are you sure you want to do regression?\"Warning message in randomForest.default(m, y, ...):\n",
      "\"The response has five or fewer unique values.  Are you sure you want to do regression?\"Warning message in randomForest.default(m, y, ...):\n",
      "\"The response has five or fewer unique values.  Are you sure you want to do regression?\"Warning message in randomForest.default(m, y, ...):\n",
      "\"The response has five or fewer unique values.  Are you sure you want to do regression?\"Warning message in randomForest.default(m, y, ...):\n",
      "\"The response has five or fewer unique values.  Are you sure you want to do regression?\"Warning message in randomForest.default(m, y, ...):\n",
      "\"The response has five or fewer unique values.  Are you sure you want to do regression?\"Warning message in randomForest.default(m, y, ...):\n",
      "\"The response has five or fewer unique values.  Are you sure you want to do regression?\""
     ]
    }
   ],
   "source": [
    "v1 = 5\n",
    "v2 = 15\n",
    "nt = 1000\n",
    "var_max = v1:v2\n",
    "mse_OBB = matrix('numeric', ncol = v2-v1+1, nrow = nt)\n",
    "\n",
    "for (i in 1:(v2-v1+1)){\n",
    "    p = var_max[i]\n",
    "    set.seed(2036125)\n",
    "    rf = randomForest(Walc~., data=train, mtry=p, ntree = nt, importance=TRUE)\n",
    "    mse_OBB[,i] = rf$mse\n",
    "}"
   ]
  },
  {
   "cell_type": "code",
   "execution_count": 210,
   "metadata": {
    "scrolled": false
   },
   "outputs": [
    {
     "data": {
      "image/png": "[encoded data removed]",
      "text/plain": [
       "plot without title"
      ]
     },
     "metadata": {},
     "output_type": "display_data"
    }
   ],
   "source": [
    "matplot(mse_OBB[100:nt,], type = \"l\", xlab = \"nombre d'arbres\", ylab = \"MSE OOB\", lty=1:(v2-v1+1))\n",
    "#legend(1:(v2-v1+1),)\n",
    "legend('topright', legend = var_max, col = 1:(v2-v1+1), lty=1:(v2-v1+1))"
   ]
  },
  {
   "cell_type": "code",
   "execution_count": 211,
   "metadata": {},
   "outputs": [
    {
     "name": "stdout",
     "output_type": "stream",
     "text": [
      "la valeur optimale de mtry est 14"
     ]
    }
   ],
   "source": [
    "cat('la valeur optimale de mtry est', var_max[which.min(mse_OBB[1000,])])"
   ]
  },
  {
   "cell_type": "code",
   "execution_count": 212,
   "metadata": {},
   "outputs": [
    {
     "name": "stderr",
     "output_type": "stream",
     "text": [
      "Warning message in randomForest.default(m, y, ...):\n",
      "\"The response has five or fewer unique values.  Are you sure you want to do regression?\""
     ]
    },
    {
     "data": {
      "text/html": [
       "1.12305032795302"
      ],
      "text/latex": [
       "1.12305032795302"
      ],
      "text/markdown": [
       "1.12305032795302"
      ],
      "text/plain": [
       "[1] 1.12305"
      ]
     },
     "metadata": {},
     "output_type": "display_data"
    }
   ],
   "source": [
    "set.seed(2036125)\n",
    "\n",
    "mtry_opt = var_max[which.min(mse_OBB[1000,])]\n",
    "# Random Forest (regression)\n",
    "rf.Walc = randomForest(Walc~., data=train, mtry = mtry_opt, ntree = nt, importance=TRUE)\n",
    "yhat.rf = predict(rf.Walc, newdata=test)\n",
    "mean((yhat.rf - y.test)^2) "
   ]
  },
  {
   "cell_type": "markdown",
   "metadata": {},
   "source": [
    "## Boosting\n",
    "* Essayer de faire varier les valeurs de *interaction.depth* et de *shrinkage* (qui vaut 0.2 par défaut)"
   ]
  },
  {
   "cell_type": "code",
   "execution_count": 45,
   "metadata": {},
   "outputs": [
    {
     "name": "stderr",
     "output_type": "stream",
     "text": [
      "Loaded gbm 2.1.5\n"
     ]
    }
   ],
   "source": [
    "library(gbm)"
   ]
  },
  {
   "cell_type": "code",
   "execution_count": 112,
   "metadata": {},
   "outputs": [],
   "source": [
    "set.seed(2036125)\n",
    "boost.Walc = gbm(Walc~., data=train, distribution= \"gaussian\",n.trees=5000,interaction.depth=4)"
   ]
  },
  {
   "cell_type": "code",
   "execution_count": 113,
   "metadata": {},
   "outputs": [
    {
     "data": {
      "text/html": [
       "<table>\n",
       "<thead><tr><th></th><th scope=col>var</th><th scope=col>rel.inf</th></tr></thead>\n",
       "<tbody>\n",
       "\t<tr><th scope=row>Dalc</th><td>Dalc       </td><td>19.3945480 </td></tr>\n",
       "\t<tr><th scope=row>G</th><td>G          </td><td>11.9218880 </td></tr>\n",
       "\t<tr><th scope=row>goout</th><td>goout      </td><td> 8.4860539 </td></tr>\n",
       "\t<tr><th scope=row>logAbsences</th><td>logAbsences</td><td> 5.6836350 </td></tr>\n",
       "\t<tr><th scope=row>reason</th><td>reason     </td><td> 5.6775740 </td></tr>\n",
       "\t<tr><th scope=row>Mjob</th><td>Mjob       </td><td> 4.7923094 </td></tr>\n",
       "\t<tr><th scope=row>age</th><td>age        </td><td> 4.1525735 </td></tr>\n",
       "\t<tr><th scope=row>health</th><td>health     </td><td> 4.1083009 </td></tr>\n",
       "\t<tr><th scope=row>freetime</th><td>freetime   </td><td> 3.5703581 </td></tr>\n",
       "\t<tr><th scope=row>studytime</th><td>studytime  </td><td> 3.2631973 </td></tr>\n",
       "\t<tr><th scope=row>Fedu</th><td>Fedu       </td><td> 3.2582400 </td></tr>\n",
       "\t<tr><th scope=row>famrel</th><td>famrel     </td><td> 3.0623715 </td></tr>\n",
       "\t<tr><th scope=row>Medu</th><td>Medu       </td><td> 2.7817810 </td></tr>\n",
       "\t<tr><th scope=row>sex</th><td>sex        </td><td> 2.5236065 </td></tr>\n",
       "\t<tr><th scope=row>activities</th><td>activities </td><td> 1.9304486 </td></tr>\n",
       "\t<tr><th scope=row>Fjob</th><td>Fjob       </td><td> 1.7675430 </td></tr>\n",
       "\t<tr><th scope=row>romantic</th><td>romantic   </td><td> 1.6113501 </td></tr>\n",
       "\t<tr><th scope=row>guardian</th><td>guardian   </td><td> 1.6037459 </td></tr>\n",
       "\t<tr><th scope=row>famsup</th><td>famsup     </td><td> 1.5440782 </td></tr>\n",
       "\t<tr><th scope=row>famsize</th><td>famsize    </td><td> 1.2124086 </td></tr>\n",
       "\t<tr><th scope=row>failures</th><td>failures   </td><td> 1.0924468 </td></tr>\n",
       "\t<tr><th scope=row>nursery</th><td>nursery    </td><td> 1.0896360 </td></tr>\n",
       "\t<tr><th scope=row>address</th><td>address    </td><td> 1.0776516 </td></tr>\n",
       "\t<tr><th scope=row>internet</th><td>internet   </td><td> 1.0671919 </td></tr>\n",
       "\t<tr><th scope=row>school</th><td>school     </td><td> 1.0182990 </td></tr>\n",
       "\t<tr><th scope=row>schoolsup</th><td>schoolsup  </td><td> 1.0119655 </td></tr>\n",
       "\t<tr><th scope=row>higher</th><td>higher     </td><td> 0.6485297 </td></tr>\n",
       "\t<tr><th scope=row>Pstatus</th><td>Pstatus    </td><td> 0.6482677 </td></tr>\n",
       "</tbody>\n",
       "</table>\n"
      ],
      "text/latex": [
       "\\begin{tabular}{r|ll}\n",
       "  & var & rel.inf\\\\\n",
       "\\hline\n",
       "\tDalc & Dalc        & 19.3945480 \\\\\n",
       "\tG & G           & 11.9218880 \\\\\n",
       "\tgoout & goout       &  8.4860539 \\\\\n",
       "\tlogAbsences & logAbsences &  5.6836350 \\\\\n",
       "\treason & reason      &  5.6775740 \\\\\n",
       "\tMjob & Mjob        &  4.7923094 \\\\\n",
       "\tage & age         &  4.1525735 \\\\\n",
       "\thealth & health      &  4.1083009 \\\\\n",
       "\tfreetime & freetime    &  3.5703581 \\\\\n",
       "\tstudytime & studytime   &  3.2631973 \\\\\n",
       "\tFedu & Fedu        &  3.2582400 \\\\\n",
       "\tfamrel & famrel      &  3.0623715 \\\\\n",
       "\tMedu & Medu        &  2.7817810 \\\\\n",
       "\tsex & sex         &  2.5236065 \\\\\n",
       "\tactivities & activities  &  1.9304486 \\\\\n",
       "\tFjob & Fjob        &  1.7675430 \\\\\n",
       "\tromantic & romantic    &  1.6113501 \\\\\n",
       "\tguardian & guardian    &  1.6037459 \\\\\n",
       "\tfamsup & famsup      &  1.5440782 \\\\\n",
       "\tfamsize & famsize     &  1.2124086 \\\\\n",
       "\tfailures & failures    &  1.0924468 \\\\\n",
       "\tnursery & nursery     &  1.0896360 \\\\\n",
       "\taddress & address     &  1.0776516 \\\\\n",
       "\tinternet & internet    &  1.0671919 \\\\\n",
       "\tschool & school      &  1.0182990 \\\\\n",
       "\tschoolsup & schoolsup   &  1.0119655 \\\\\n",
       "\thigher & higher      &  0.6485297 \\\\\n",
       "\tPstatus & Pstatus     &  0.6482677 \\\\\n",
       "\\end{tabular}\n"
      ],
      "text/markdown": [
       "\n",
       "| <!--/--> | var | rel.inf |\n",
       "|---|---|---|\n",
       "| Dalc | Dalc        | 19.3945480  |\n",
       "| G | G           | 11.9218880  |\n",
       "| goout | goout       |  8.4860539  |\n",
       "| logAbsences | logAbsences |  5.6836350  |\n",
       "| reason | reason      |  5.6775740  |\n",
       "| Mjob | Mjob        |  4.7923094  |\n",
       "| age | age         |  4.1525735  |\n",
       "| health | health      |  4.1083009  |\n",
       "| freetime | freetime    |  3.5703581  |\n",
       "| studytime | studytime   |  3.2631973  |\n",
       "| Fedu | Fedu        |  3.2582400  |\n",
       "| famrel | famrel      |  3.0623715  |\n",
       "| Medu | Medu        |  2.7817810  |\n",
       "| sex | sex         |  2.5236065  |\n",
       "| activities | activities  |  1.9304486  |\n",
       "| Fjob | Fjob        |  1.7675430  |\n",
       "| romantic | romantic    |  1.6113501  |\n",
       "| guardian | guardian    |  1.6037459  |\n",
       "| famsup | famsup      |  1.5440782  |\n",
       "| famsize | famsize     |  1.2124086  |\n",
       "| failures | failures    |  1.0924468  |\n",
       "| nursery | nursery     |  1.0896360  |\n",
       "| address | address     |  1.0776516  |\n",
       "| internet | internet    |  1.0671919  |\n",
       "| school | school      |  1.0182990  |\n",
       "| schoolsup | schoolsup   |  1.0119655  |\n",
       "| higher | higher      |  0.6485297  |\n",
       "| Pstatus | Pstatus     |  0.6482677  |\n",
       "\n"
      ],
      "text/plain": [
       "            var         rel.inf   \n",
       "Dalc        Dalc        19.3945480\n",
       "G           G           11.9218880\n",
       "goout       goout        8.4860539\n",
       "logAbsences logAbsences  5.6836350\n",
       "reason      reason       5.6775740\n",
       "Mjob        Mjob         4.7923094\n",
       "age         age          4.1525735\n",
       "health      health       4.1083009\n",
       "freetime    freetime     3.5703581\n",
       "studytime   studytime    3.2631973\n",
       "Fedu        Fedu         3.2582400\n",
       "famrel      famrel       3.0623715\n",
       "Medu        Medu         2.7817810\n",
       "sex         sex          2.5236065\n",
       "activities  activities   1.9304486\n",
       "Fjob        Fjob         1.7675430\n",
       "romantic    romantic     1.6113501\n",
       "guardian    guardian     1.6037459\n",
       "famsup      famsup       1.5440782\n",
       "famsize     famsize      1.2124086\n",
       "failures    failures     1.0924468\n",
       "nursery     nursery      1.0896360\n",
       "address     address      1.0776516\n",
       "internet    internet     1.0671919\n",
       "school      school       1.0182990\n",
       "schoolsup   schoolsup    1.0119655\n",
       "higher      higher       0.6485297\n",
       "Pstatus     Pstatus      0.6482677"
      ]
     },
     "metadata": {},
     "output_type": "display_data"
    },
    {
     "data": {
      "image/png": "[encoded data removed]",
      "text/plain": [
       "plot without title"
      ]
     },
     "metadata": {},
     "output_type": "display_data"
    }
   ],
   "source": [
    "summary(boost.Walc)"
   ]
  },
  {
   "cell_type": "code",
   "execution_count": 114,
   "metadata": {},
   "outputs": [
    {
     "data": {
      "text/html": [
       "1.48113469538622"
      ],
      "text/latex": [
       "1.48113469538622"
      ],
      "text/markdown": [
       "1.48113469538622"
      ],
      "text/plain": [
       "[1] 1.481135"
      ]
     },
     "metadata": {},
     "output_type": "display_data"
    }
   ],
   "source": [
    "yhat.boost = predict(boost.Walc, newdata = test, n.trees=5000)\n",
    "mean((yhat.boost-y.test)^2) "
   ]
  },
  {
   "cell_type": "code",
   "execution_count": 171,
   "metadata": {},
   "outputs": [
    {
     "data": {
      "image/png": "[encoded data removed]",
      "text/plain": [
       "Plot with title \"Histogram of d$Walc\""
      ]
     },
     "metadata": {},
     "output_type": "display_data"
    }
   ],
   "source": [
    "hist(d$Walc)"
   ]
  },
  {
   "cell_type": "code",
   "execution_count": null,
   "metadata": {},
   "outputs": [],
   "source": []
  },
  {
   "cell_type": "code",
   "execution_count": null,
   "metadata": {},
   "outputs": [],
   "source": []
  },
  {
   "cell_type": "code",
   "execution_count": null,
   "metadata": {},
   "outputs": [],
   "source": []
  },
  {
   "cell_type": "code",
   "execution_count": null,
   "metadata": {},
   "outputs": [],
   "source": []
  },
  {
   "cell_type": "code",
   "execution_count": null,
   "metadata": {},
   "outputs": [],
   "source": []
  },
  {
   "cell_type": "markdown",
   "metadata": {},
   "source": [
    "## Arbres de classification"
   ]
  },
  {
   "cell_type": "code",
   "execution_count": 84,
   "metadata": {},
   "outputs": [],
   "source": [
    "train_b = train\n",
    "train_b[, indWalc] = factor(train_b[, indWalc])"
   ]
  },
  {
   "cell_type": "code",
   "execution_count": 86,
   "metadata": {},
   "outputs": [
    {
     "data": {
      "text/plain": [
       "\n",
       "Classification tree:\n",
       "tree(formula = Walc ~ ., data = train_b)\n",
       "Variables actually used in tree construction:\n",
       "[1] \"Dalc\"  \"goout\"\n",
       "Number of terminal nodes:  6 \n",
       "Residual mean deviance:  2.302 = 1137 / 494 \n",
       "Misclassification error rate: 0.488 = 244 / 500 "
      ]
     },
     "metadata": {},
     "output_type": "display_data"
    },
    {
     "data": {
      "image/png": "[encoded data removed]",
      "text/plain": [
       "plot without title"
      ]
     },
     "metadata": {},
     "output_type": "display_data"
    }
   ],
   "source": [
    "tree.class = tree(Walc∼., train_b)\n",
    "summary(tree.class)\n",
    "\n",
    "plot(tree.class)\n",
    "text(tree.class ,pretty =0)"
   ]
  },
  {
   "cell_type": "code",
   "execution_count": 88,
   "metadata": {},
   "outputs": [
    {
     "data": {
      "text/html": [
       "0.483221476510067"
      ],
      "text/latex": [
       "0.483221476510067"
      ],
      "text/markdown": [
       "0.483221476510067"
      ],
      "text/plain": [
       "[1] 0.4832215"
      ]
     },
     "metadata": {},
     "output_type": "display_data"
    }
   ],
   "source": [
    "tree.pred = predict(tree.class ,test, type=\"class\")\n",
    "res = table(tree.pred, y.test)\n",
    "1 - sum(diag(res))/149"
   ]
  },
  {
   "cell_type": "code",
   "execution_count": 29,
   "metadata": {},
   "outputs": [
    {
     "data": {
      "text/plain": [
       "         y.test\n",
       "tree.pred  1  2  3  4  5\n",
       "        1 60 23 13  9  2\n",
       "        2  0  0  0  0  0\n",
       "        3  2  8  4  1  0\n",
       "        4  0  3  9 10  2\n",
       "        5  0  0  0  0  3"
      ]
     },
     "metadata": {},
     "output_type": "display_data"
    }
   ],
   "source": [
    "res"
   ]
  },
  {
   "cell_type": "code",
   "execution_count": 89,
   "metadata": {},
   "outputs": [
    {
     "data": {
      "text/html": [
       "<ol class=list-inline>\n",
       "\t<li>'size'</li>\n",
       "\t<li>'dev'</li>\n",
       "\t<li>'k'</li>\n",
       "\t<li>'method'</li>\n",
       "</ol>\n"
      ],
      "text/latex": [
       "\\begin{enumerate*}\n",
       "\\item 'size'\n",
       "\\item 'dev'\n",
       "\\item 'k'\n",
       "\\item 'method'\n",
       "\\end{enumerate*}\n"
      ],
      "text/markdown": [
       "1. 'size'\n",
       "2. 'dev'\n",
       "3. 'k'\n",
       "4. 'method'\n",
       "\n",
       "\n"
      ],
      "text/plain": [
       "[1] \"size\"   \"dev\"    \"k\"      \"method\""
      ]
     },
     "metadata": {},
     "output_type": "display_data"
    },
    {
     "data": {
      "text/plain": [
       "$size\n",
       "[1] 6 5 4 3 2 1\n",
       "\n",
       "$dev\n",
       "[1] 246 246 258 254 277 316\n",
       "\n",
       "$k\n",
       "[1] -Inf    0    4    8   15   44\n",
       "\n",
       "$method\n",
       "[1] \"misclass\"\n",
       "\n",
       "attr(,\"class\")\n",
       "[1] \"prune\"         \"tree.sequence\""
      ]
     },
     "metadata": {},
     "output_type": "display_data"
    }
   ],
   "source": [
    "set.seed(2036125)\n",
    "cv.tree.class =cv.tree(tree.class ,FUN=prune.misclass)\n",
    "names(cv.tree.class)\n",
    "cv.tree.class"
   ]
  },
  {
   "cell_type": "code",
   "execution_count": 31,
   "metadata": {},
   "outputs": [
    {
     "data": {
      "image/png": "[encoded data removed]",
      "text/plain": [
       "plot without title"
      ]
     },
     "metadata": {},
     "output_type": "display_data"
    }
   ],
   "source": [
    "par(mfrow=c(1,2))\n",
    "plot(cv.tree.class$size ,cv.tree.class$dev ,type=\"b\")\n",
    "plot(cv.tree.class$k ,cv.tree.class$dev ,type=\"b\") "
   ]
  },
  {
   "cell_type": "code",
   "execution_count": 90,
   "metadata": {},
   "outputs": [
    {
     "data": {
      "image/png": "[encoded data removed]",
      "text/plain": [
       "plot without title"
      ]
     },
     "metadata": {},
     "output_type": "display_data"
    }
   ],
   "source": [
    "prune.class = prune.misclass (tree.class ,best=5)\n",
    "plot(prune.class)\n",
    "text(prune.class ,pretty =0)"
   ]
  },
  {
   "cell_type": "code",
   "execution_count": 91,
   "metadata": {},
   "outputs": [
    {
     "data": {
      "text/html": [
       "0.483221476510067"
      ],
      "text/latex": [
       "0.483221476510067"
      ],
      "text/markdown": [
       "0.483221476510067"
      ],
      "text/plain": [
       "[1] 0.4832215"
      ]
     },
     "metadata": {},
     "output_type": "display_data"
    }
   ],
   "source": [
    "tree.pred = predict(prune.class ,test, type=\"class\")\n",
    "res = table(tree.pred, y.test)\n",
    "1 - sum(diag(res))/149"
   ]
  },
  {
   "cell_type": "code",
   "execution_count": 111,
   "metadata": {
    "scrolled": true
   },
   "outputs": [
    {
     "data": {
      "text/plain": [
       "         y.test\n",
       "tree.pred  1  2  3  4  5\n",
       "        1 51 19 11  8  1\n",
       "        2  6  5  2  1  0\n",
       "        3  5  6  6  3  0\n",
       "        4  0  4  7  8  2\n",
       "        5  0  0  0  0  4"
      ]
     },
     "metadata": {},
     "output_type": "display_data"
    },
    {
     "data": {
      "text/html": [
       "0.503355704697987"
      ],
      "text/latex": [
       "0.503355704697987"
      ],
      "text/markdown": [
       "0.503355704697987"
      ],
      "text/plain": [
       "[1] 0.5033557"
      ]
     },
     "metadata": {},
     "output_type": "display_data"
    }
   ],
   "source": [
    "set.seed(2036125)\n",
    "\n",
    "# Random Forest (classification)\n",
    "rf.Walc = randomForest(Walc~., data=train_b, mtry=6, importance=TRUE)\n",
    "tree.pred = predict(rf.Walc ,test, type=\"class\")\n",
    "res = table(tree.pred, y.test)\n",
    "\n",
    "res\n",
    "1 - sum(diag(res))/149"
   ]
  }
 ],
 "metadata": {
  "kernelspec": {
   "display_name": "R",
   "language": "R",
   "name": "ir"
  },
  "language_info": {
   "codemirror_mode": "r",
   "file_extension": ".r",
   "mimetype": "text/x-r-source",
   "name": "R",
   "pygments_lexer": "r",
   "version": "3.6.1"
  }
 },
 "nbformat": 4,
 "nbformat_minor": 2
}
