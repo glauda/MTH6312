{
 "cells": [
  {
   "cell_type": "markdown",
   "metadata": {},
   "source": [
    "# Projet apprentissage stat"
   ]
  },
  {
   "cell_type": "markdown",
   "metadata": {},
   "source": [
    "**Objectif** : Prédire la variable $\\texttt{Walc}$  \n",
    "\n",
    "Méthodes de régression étudiées\n",
    "* Régression linéaire\n",
    "* KNN (pour une régression)\n",
    "* splines "
   ]
  },
  {
   "cell_type": "markdown",
   "metadata": {},
   "source": [
    "source DB : https://www.kaggle.com/uciml/student-alcohol-consumption  \n",
    "Etude sur les élèves du cours de portugais"
   ]
  },
  {
   "cell_type": "markdown",
   "metadata": {},
   "source": [
    "**Données d'entrainement** : 500 étudiants  \n",
    "**Données de test** : 149 étudiants\n",
    "\n",
    "**Réduction de dimension** : on applique une ACP sur les données d'entrainement pour supprimer des variables quantitatives / on peut appliquer une MCA (Multiple correspondence analysis) qui traite les données qualitatives et quantitatives"
   ]
  },
  {
   "cell_type": "code",
   "execution_count": 40,
   "metadata": {},
   "outputs": [],
   "source": [
    "rm(list=ls())\n",
    "library(ISLR)\n",
    "library(boot)\n",
    "library (glmnet)\n",
    "library(glmnetUtils)"
   ]
  },
  {
   "cell_type": "markdown",
   "metadata": {},
   "source": [
    "# Observation des données"
   ]
  },
  {
   "cell_type": "code",
   "execution_count": 41,
   "metadata": {},
   "outputs": [
    {
     "data": {
      "text/html": [
       "<ol class=list-inline>\n",
       "\t<li>649</li>\n",
       "\t<li>33</li>\n",
       "</ol>\n"
      ],
      "text/latex": [
       "\\begin{enumerate*}\n",
       "\\item 649\n",
       "\\item 33\n",
       "\\end{enumerate*}\n"
      ],
      "text/markdown": [
       "1. 649\n",
       "2. 33\n",
       "\n",
       "\n"
      ],
      "text/plain": [
       "[1] 649  33"
      ]
     },
     "metadata": {},
     "output_type": "display_data"
    },
    {
     "data": {
      "text/html": [
       "<table>\n",
       "<thead><tr><th></th><th scope=col>school</th><th scope=col>sex</th><th scope=col>age</th><th scope=col>address</th><th scope=col>famsize</th><th scope=col>Pstatus</th><th scope=col>Medu</th><th scope=col>Fedu</th><th scope=col>Mjob</th><th scope=col>Fjob</th><th scope=col>...</th><th scope=col>famrel</th><th scope=col>freetime</th><th scope=col>goout</th><th scope=col>Dalc</th><th scope=col>Walc</th><th scope=col>health</th><th scope=col>absences</th><th scope=col>G1</th><th scope=col>G2</th><th scope=col>G3</th></tr></thead>\n",
       "<tbody>\n",
       "\t<tr><th scope=row>489</th><td>MS      </td><td>F       </td><td>19      </td><td>U       </td><td>GT3     </td><td>T       </td><td>1       </td><td>1       </td><td>at_home </td><td>services</td><td>...     </td><td>5       </td><td>3       </td><td>1       </td><td>1       </td><td>1       </td><td>3       </td><td> 6      </td><td> 7      </td><td> 9      </td><td> 9      </td></tr>\n",
       "\t<tr><th scope=row>135</th><td>GP      </td><td>F       </td><td>17      </td><td>U       </td><td>LE3     </td><td>T       </td><td>2       </td><td>2       </td><td>other   </td><td>other   </td><td>...     </td><td>3       </td><td>4       </td><td>4       </td><td>1       </td><td>3       </td><td>5       </td><td> 2      </td><td>13      </td><td>12      </td><td>12      </td></tr>\n",
       "\t<tr><th scope=row>184</th><td>GP      </td><td>F       </td><td>16      </td><td>U       </td><td>GT3     </td><td>T       </td><td>4       </td><td>4       </td><td>health  </td><td>health  </td><td>...     </td><td>4       </td><td>4       </td><td>2       </td><td>1       </td><td>1       </td><td>3       </td><td> 0      </td><td>16      </td><td>16      </td><td>17      </td></tr>\n",
       "\t<tr><th scope=row>265</th><td>GP      </td><td>F       </td><td>17      </td><td>U       </td><td>LE3     </td><td>A       </td><td>2       </td><td>2       </td><td>other   </td><td>other   </td><td>...     </td><td>3       </td><td>1       </td><td>2       </td><td>1       </td><td>1       </td><td>1       </td><td> 8      </td><td>11      </td><td> 9      </td><td>10      </td></tr>\n",
       "\t<tr><th scope=row>203</th><td>GP      </td><td>F       </td><td>17      </td><td>U       </td><td>GT3     </td><td>A       </td><td>3       </td><td>3       </td><td>health  </td><td>other   </td><td>...     </td><td>3       </td><td>3       </td><td>3       </td><td>1       </td><td>3       </td><td>3       </td><td>10      </td><td>12      </td><td>13      </td><td>14      </td></tr>\n",
       "\t<tr><th scope=row>229</th><td>GP      </td><td>F       </td><td>17      </td><td>R       </td><td>LE3     </td><td>T       </td><td>4       </td><td>4       </td><td>services</td><td>other   </td><td>...     </td><td>5       </td><td>2       </td><td>1       </td><td>1       </td><td>2       </td><td>3       </td><td> 6      </td><td>12      </td><td>11      </td><td>11      </td></tr>\n",
       "</tbody>\n",
       "</table>\n"
      ],
      "text/latex": [
       "\\begin{tabular}{r|lllllllllllllllllllllllllllllllll}\n",
       "  & school & sex & age & address & famsize & Pstatus & Medu & Fedu & Mjob & Fjob & ... & famrel & freetime & goout & Dalc & Walc & health & absences & G1 & G2 & G3\\\\\n",
       "\\hline\n",
       "\t489 & MS         & F          & 19         & U          & GT3        & T          & 1          & 1          & at\\_home  & services   & ...        & 5          & 3          & 1          & 1          & 1          & 3          &  6         &  7         &  9         &  9        \\\\\n",
       "\t135 & GP       & F        & 17       & U        & LE3      & T        & 2        & 2        & other    & other    & ...      & 3        & 4        & 4        & 1        & 3        & 5        &  2       & 13       & 12       & 12      \\\\\n",
       "\t184 & GP       & F        & 16       & U        & GT3      & T        & 4        & 4        & health   & health   & ...      & 4        & 4        & 2        & 1        & 1        & 3        &  0       & 16       & 16       & 17      \\\\\n",
       "\t265 & GP       & F        & 17       & U        & LE3      & A        & 2        & 2        & other    & other    & ...      & 3        & 1        & 2        & 1        & 1        & 1        &  8       & 11       &  9       & 10      \\\\\n",
       "\t203 & GP       & F        & 17       & U        & GT3      & A        & 3        & 3        & health   & other    & ...      & 3        & 3        & 3        & 1        & 3        & 3        & 10       & 12       & 13       & 14      \\\\\n",
       "\t229 & GP       & F        & 17       & R        & LE3      & T        & 4        & 4        & services & other    & ...      & 5        & 2        & 1        & 1        & 2        & 3        &  6       & 12       & 11       & 11      \\\\\n",
       "\\end{tabular}\n"
      ],
      "text/markdown": [
       "\n",
       "| <!--/--> | school | sex | age | address | famsize | Pstatus | Medu | Fedu | Mjob | Fjob | ... | famrel | freetime | goout | Dalc | Walc | health | absences | G1 | G2 | G3 |\n",
       "|---|---|---|---|---|---|---|---|---|---|---|---|---|---|---|---|---|---|---|---|---|---|\n",
       "| 489 | MS       | F        | 19       | U        | GT3      | T        | 1        | 1        | at_home  | services | ...      | 5        | 3        | 1        | 1        | 1        | 3        |  6       |  7       |  9       |  9       |\n",
       "| 135 | GP       | F        | 17       | U        | LE3      | T        | 2        | 2        | other    | other    | ...      | 3        | 4        | 4        | 1        | 3        | 5        |  2       | 13       | 12       | 12       |\n",
       "| 184 | GP       | F        | 16       | U        | GT3      | T        | 4        | 4        | health   | health   | ...      | 4        | 4        | 2        | 1        | 1        | 3        |  0       | 16       | 16       | 17       |\n",
       "| 265 | GP       | F        | 17       | U        | LE3      | A        | 2        | 2        | other    | other    | ...      | 3        | 1        | 2        | 1        | 1        | 1        |  8       | 11       |  9       | 10       |\n",
       "| 203 | GP       | F        | 17       | U        | GT3      | A        | 3        | 3        | health   | other    | ...      | 3        | 3        | 3        | 1        | 3        | 3        | 10       | 12       | 13       | 14       |\n",
       "| 229 | GP       | F        | 17       | R        | LE3      | T        | 4        | 4        | services | other    | ...      | 5        | 2        | 1        | 1        | 2        | 3        |  6       | 12       | 11       | 11       |\n",
       "\n"
      ],
      "text/plain": [
       "    school sex age address famsize Pstatus Medu Fedu Mjob     Fjob     ...\n",
       "489 MS     F   19  U       GT3     T       1    1    at_home  services ...\n",
       "135 GP     F   17  U       LE3     T       2    2    other    other    ...\n",
       "184 GP     F   16  U       GT3     T       4    4    health   health   ...\n",
       "265 GP     F   17  U       LE3     A       2    2    other    other    ...\n",
       "203 GP     F   17  U       GT3     A       3    3    health   other    ...\n",
       "229 GP     F   17  R       LE3     T       4    4    services other    ...\n",
       "    famrel freetime goout Dalc Walc health absences G1 G2 G3\n",
       "489 5      3        1     1    1    3       6        7  9  9\n",
       "135 3      4        4     1    3    5       2       13 12 12\n",
       "184 4      4        2     1    1    3       0       16 16 17\n",
       "265 3      1        2     1    1    1       8       11  9 10\n",
       "203 3      3        3     1    3    3      10       12 13 14\n",
       "229 5      2        1     1    2    3       6       12 11 11"
      ]
     },
     "metadata": {},
     "output_type": "display_data"
    }
   ],
   "source": [
    "d=read.table(\"student-por.csv\",sep=\",\",header=TRUE)\n",
    "n = dim(d)[1]\n",
    "set.seed(2036125)\n",
    "d = d[sample(1:n), ]\n",
    "\n",
    "dim(d)\n",
    "head(d)\n",
    "indWalc = which(\"Walc\"==colnames(d))"
   ]
  },
  {
   "cell_type": "code",
   "execution_count": 42,
   "metadata": {},
   "outputs": [
    {
     "name": "stdout",
     "output_type": "stream",
     "text": [
      "'data.frame':\t649 obs. of  33 variables:\n",
      " $ school    : Factor w/ 2 levels \"GP\",\"MS\": 2 1 1 1 1 1 1 2 1 1 ...\n",
      " $ sex       : Factor w/ 2 levels \"F\",\"M\": 1 1 1 1 1 1 2 1 2 2 ...\n",
      " $ age       : int  19 17 16 17 17 17 15 17 17 15 ...\n",
      " $ address   : Factor w/ 2 levels \"R\",\"U\": 2 2 2 2 2 1 2 1 2 2 ...\n",
      " $ famsize   : Factor w/ 2 levels \"GT3\",\"LE3\": 1 2 1 2 1 2 1 1 2 2 ...\n",
      " $ Pstatus   : Factor w/ 2 levels \"A\",\"T\": 2 2 2 1 1 2 1 2 1 1 ...\n",
      " $ Medu      : int  1 2 4 2 3 4 2 1 3 3 ...\n",
      " $ Fedu      : int  1 2 4 2 3 4 2 1 2 2 ...\n",
      " $ Mjob      : Factor w/ 5 levels \"at_home\",\"health\",..: 1 3 2 3 2 4 3 1 3 4 ...\n",
      " $ Fjob      : Factor w/ 5 levels \"at_home\",\"health\",..: 4 3 2 3 3 3 3 1 3 3 ...\n",
      " $ reason    : Factor w/ 4 levels \"course\",\"home\",..: 1 1 4 2 4 3 2 1 4 2 ...\n",
      " $ guardian  : Factor w/ 3 levels \"father\",\"mother\",..: 2 1 2 2 2 2 3 1 2 2 ...\n",
      " $ traveltime: int  1 1 1 1 1 1 1 2 1 1 ...\n",
      " $ studytime : int  3 1 2 1 2 1 3 1 2 2 ...\n",
      " $ failures  : int  1 0 0 1 0 0 0 0 0 0 ...\n",
      " $ schoolsup : Factor w/ 2 levels \"no\",\"yes\": 1 1 1 1 1 1 1 1 1 1 ...\n",
      " $ famsup    : Factor w/ 2 levels \"no\",\"yes\": 1 2 2 2 2 2 2 2 2 2 ...\n",
      " $ paid      : Factor w/ 2 levels \"no\",\"yes\": 1 1 1 1 1 1 1 1 1 1 ...\n",
      " $ activities: Factor w/ 2 levels \"no\",\"yes\": 2 1 1 1 1 1 1 2 1 1 ...\n",
      " $ nursery   : Factor w/ 2 levels \"no\",\"yes\": 2 2 2 1 1 2 2 2 2 2 ...\n",
      " $ higher    : Factor w/ 2 levels \"no\",\"yes\": 1 2 2 1 2 2 2 1 2 2 ...\n",
      " $ internet  : Factor w/ 2 levels \"no\",\"yes\": 1 2 2 2 2 1 2 2 2 2 ...\n",
      " $ romantic  : Factor w/ 2 levels \"no\",\"yes\": 2 2 2 1 2 1 2 2 1 1 ...\n",
      " $ famrel    : int  5 3 4 3 3 5 4 3 4 4 ...\n",
      " $ freetime  : int  3 4 4 1 3 2 5 5 4 2 ...\n",
      " $ goout     : int  1 4 2 2 3 1 2 5 4 2 ...\n",
      " $ Dalc      : int  1 1 1 1 1 1 1 2 1 1 ...\n",
      " $ Walc      : int  1 3 1 1 3 2 1 2 2 1 ...\n",
      " $ health    : int  3 5 3 1 3 3 3 4 5 1 ...\n",
      " $ absences  : int  6 2 0 8 10 6 0 3 10 0 ...\n",
      " $ G1        : int  7 13 16 11 12 12 14 10 16 15 ...\n",
      " $ G2        : int  9 12 16 9 13 11 14 11 18 16 ...\n",
      " $ G3        : int  9 12 17 10 14 11 15 10 18 17 ...\n"
     ]
    }
   ],
   "source": [
    "str(d)"
   ]
  },
  {
   "cell_type": "code",
   "execution_count": 43,
   "metadata": {},
   "outputs": [],
   "source": [
    "train = d[1:500,]\n",
    "test = d[501:n,]"
   ]
  },
  {
   "cell_type": "markdown",
   "metadata": {},
   "source": [
    "# Pre processing des données"
   ]
  },
  {
   "cell_type": "code",
   "execution_count": null,
   "metadata": {
    "scrolled": false
   },
   "outputs": [],
   "source": [
    "summary(train)\n",
    "#Mjob:(health),Fjob:(at_home,health,teacher),guardian:(other),traveltime,failure,paid,[G1+G2+G3]\n",
    "length(train[,\"failures\"][train[,\"failures\"]>0])\n",
    "length(train[,\"famrel\"][train[,\"famrel\"]<3])\n",
    "cor(train[,\"traveltime\"],train[,\"Walc\"])\n",
    "cor(train[,\"failures\"],train[,\"Walc\"])\n",
    "cor(train[,\"Dalc\"],train[,\"Walc\"])\n",
    "hist(train[,\"absences\"])\n",
    "hist(log(train[,\"absences\"]+1))"
   ]
  },
  {
   "cell_type": "code",
   "execution_count": null,
   "metadata": {},
   "outputs": [],
   "source": [
    "train[,\"Mjob\"][train[,\"Mjob\"]==\"health\"]=\"other\"\n",
    "test[,\"Mjob\"][test[,\"Mjob\"]==\"health\"]=\"other\"\n",
    "\n",
    "train[,\"Fjob\"][train[,\"Fjob\"]==\"health\"|train[,\"Fjob\"]==\"at_home\"|train[,\"Fjob\"]==\"teacher\"]=\"other\"\n",
    "test[,\"Fjob\"][test[,\"Fjob\"]==\"health\"|test[,\"Fjob\"]==\"at_home\"|test[,\"Fjob\"]==\"teacher\"]=\"other\"\n",
    "\n",
    "train[,\"guardian\"][train[,\"guardian\"]==\"other\"]=\"father\"\n",
    "test[,\"guardian\"][test[,\"guardian\"]==\"other\"]=\"father\"\n",
    "\n",
    "train[,\"traveltime\"]=NULL\n",
    "test[,\"traveltime\"]=NULL\n",
    "\n",
    "train[,\"failure\"]=NULL\n",
    "test[,\"failure\"]=NULL\n",
    "\n",
    "train[,\"paid\"]=NULL\n",
    "test[,\"paid\"]=NULL\n",
    "\n",
    "train[,\"G\"]=(train[,\"G1\"]+train[,\"G2\"]+train[,\"G3\"])/3\n",
    "test[,\"G\"]=(test[,\"G1\"]+test[,\"G2\"]+test[,\"G3\"])/3\n",
    "train[,\"G1\"]=NULL\n",
    "test[,\"G1\"]=NULL\n",
    "train[,\"G2\"]=NULL\n",
    "test[,\"G2\"]=NULL\n",
    "train[,\"G3\"]=NULL\n",
    "test[,\"G3\"]=NULL\n",
    "\n",
    "train[,\"logAbsences\"]=log(train[,\"absences\"]+1)\n",
    "test[,\"logAbsences\"]=log(test[,\"absences\"]+1)\n",
    "train[,\"absences\"]=NULL\n",
    "test[,\"absences\"]=NULL"
   ]
  },
  {
   "cell_type": "code",
   "execution_count": null,
   "metadata": {},
   "outputs": [],
   "source": [
    "str(train)"
   ]
  },
  {
   "cell_type": "markdown",
   "metadata": {},
   "source": [
    "# Regression simple"
   ]
  },
  {
   "cell_type": "code",
   "execution_count": null,
   "metadata": {},
   "outputs": [],
   "source": [
    "lm.fit = lm(Walc~.,data=train)\n",
    "y_pred=predict(lm.fit,test)\n",
    "mean((y_pred-test$Walc)^2)"
   ]
  },
  {
   "cell_type": "code",
   "execution_count": null,
   "metadata": {},
   "outputs": [],
   "source": [
    "# erreur : faire la regreesion logistique pour plusieurs classes\n",
    "glm.fit = glm(Walc~.,data=d ,family=binomial, subset = 1:500)"
   ]
  },
  {
   "cell_type": "code",
   "execution_count": null,
   "metadata": {},
   "outputs": [],
   "source": [
    "summary(lm.fit)"
   ]
  },
  {
   "cell_type": "code",
   "execution_count": null,
   "metadata": {
    "scrolled": false
   },
   "outputs": [],
   "source": [
    "par(mfrow = c(2,2))\n",
    "plot(lm.fit)"
   ]
  },
  {
   "cell_type": "markdown",
   "metadata": {},
   "source": [
    "# Regression avec régularisation Elastic Net"
   ]
  },
  {
   "cell_type": "code",
   "execution_count": null,
   "metadata": {},
   "outputs": [],
   "source": [
    "x= model.matrix (Walc∼.,train)[,-1]\n",
    "y= train$Walc\n",
    "\n",
    "n_alpha = 21\n",
    "grid.alpha = seq(0,1, length =n_alpha)\n",
    "grid.lambda =10^ seq (3,-3, length =400)\n",
    "set.seed(2036125)\n",
    "cv.out.elastic = cva.glmnet(x,y,alpha = grid.alpha , lambda =grid.lambda,nfolds = 10)"
   ]
  },
  {
   "cell_type": "code",
   "execution_count": null,
   "metadata": {},
   "outputs": [],
   "source": [
    "formula\n",
    "colnames(x)"
   ]
  },
  {
   "cell_type": "code",
   "execution_count": null,
   "metadata": {},
   "outputs": [],
   "source": [
    "res.err = rep(0, n_alpha)\n",
    "res.lambda = rep(0, n_alpha)\n",
    "\n",
    "cpt = 1\n",
    "\n",
    "for (obj in cv.out.elastic$modlist){\n",
    "    \n",
    "    res.err[cpt] = min(obj$cvm)\n",
    "    truc = which.min(obj$cvm)\n",
    "    res.lambda[cpt] = obj$lambda.min\n",
    "    truc2 = obj$nzero[truc]\n",
    "    cpt = cpt + 1\n",
    "    if(cpt == 14){\n",
    "        plot(x=obj$lambda,y=obj$cvm,type=\"l\",log='x')\n",
    "        points(x = obj$lambda[truc],y = obj$cvm[truc])\n",
    "    }\n",
    "    \n",
    "}\n",
    "\n",
    "best.index = which.min(res.err)\n",
    "best.alpha = grid.alpha[best.index]\n",
    "best.lambda = res.lambda[best.index]\n",
    "best.err = res.err[best.index]"
   ]
  },
  {
   "cell_type": "code",
   "execution_count": null,
   "metadata": {
    "scrolled": false
   },
   "outputs": [],
   "source": [
    "str(obj)"
   ]
  },
  {
   "cell_type": "code",
   "execution_count": null,
   "metadata": {
    "scrolled": true
   },
   "outputs": [],
   "source": [
    "best.err \n",
    "best.lambda \n",
    "best.alpha \n",
    "best.index"
   ]
  },
  {
   "cell_type": "code",
   "execution_count": null,
   "metadata": {},
   "outputs": [],
   "source": [
    "#plot(x=obj$lambda,y=obj$cvm,type=\"b\")\n",
    "plot(x = grid.alpha, y = res.err, pch=19, type=\"b\", xlab = \"Alpha\", ylab = \"MSE\",\n",
    "    main = \"Erreur en fonction de alpha\")\n",
    "\n",
    "points(best.alpha, res.err[best.index], col=\"red\", pch=19)\n",
    "grid.lambda2 =10^ seq (3,-3, length =200)\n",
    "#x_scaled = scale(x[,-1])\n",
    "#model.elastic_scaled=glmnet(x_scaled,y,alpha =best.alpha , lambda =grid.lambda2, standardized = FALSE )\n",
    "\n",
    "#plot(model.elastic_scaled,xvar=\"lambda\",label=TRUE,ylab =\"Standardized Coefficients\")\n",
    "#abline(v =log(best.lambda))"
   ]
  },
  {
   "cell_type": "code",
   "execution_count": null,
   "metadata": {},
   "outputs": [],
   "source": [
    "rownames(coef(model.elastic_scaled))[35]\n",
    "rownames(coef(model.elastic_scaled))[34]\n",
    "rownames(coef(model.elastic_scaled))[1]\n",
    "length(rownames(coef(model.elastic_scaled)))\n",
    "rownames(coef(model.elastic_scaled))\n",
    "truc2"
   ]
  },
  {
   "cell_type": "code",
   "execution_count": null,
   "metadata": {},
   "outputs": [],
   "source": [
    "#model.elastic = glmnet(x,y,alpha = best.lambda, lambda = best.lambda)\n",
    "model.elastic = glmnet(x,y,alpha = 1, lambda = best.lambda)\n",
    "xtest = model.matrix (Walc∼.,test)[,-indWalc]\n",
    "pred.elastic=predict(model.elastic,newx=xtest)\n",
    "mean((pred.elastic-test$Walc)^2)\n"
   ]
  },
  {
   "cell_type": "code",
   "execution_count": null,
   "metadata": {
    "scrolled": true
   },
   "outputs": [],
   "source": [
    "result = cbind(pred.elastic,test$Walc)\n",
    "colnames(result)[1] = \"Prediction\"\n",
    "colnames(result)[2] = \"True value\"\n",
    "head(result,15)"
   ]
  },
  {
   "cell_type": "markdown",
   "metadata": {},
   "source": [
    "# Spline (changer)"
   ]
  },
  {
   "cell_type": "code",
   "execution_count": null,
   "metadata": {},
   "outputs": [],
   "source": [
    "library (gam)"
   ]
  },
  {
   "cell_type": "code",
   "execution_count": null,
   "metadata": {},
   "outputs": [],
   "source": [
    "colnames(train)"
   ]
  },
  {
   "cell_type": "code",
   "execution_count": null,
   "metadata": {},
   "outputs": [],
   "source": [
    "quali = sapply(train, function(x) is.factor(x))\n",
    "indWalc2 = which(\"Walc\"==colnames(train[!quali]))\n",
    "formula = as.formula(paste(\"Walc~\", paste(names(train)[quali], collapse=\"+\"),\"+\",paste(\"s(\",names(train)[!quali][-indWalc2],\", 2)\", collapse=\"+\")))"
   ]
  },
  {
   "cell_type": "code",
   "execution_count": null,
   "metadata": {},
   "outputs": [],
   "source": [
    "formula"
   ]
  },
  {
   "cell_type": "code",
   "execution_count": null,
   "metadata": {},
   "outputs": [],
   "source": [
    "library(gamclass)"
   ]
  },
  {
   "cell_type": "code",
   "execution_count": null,
   "metadata": {},
   "outputs": [],
   "source": [
    "gam.m=gam(formula,data=train)\n",
    "pred.gam=predict(gam.m,test)\n",
    "length(pred.gam)\n",
    "length(test$Walc)\n",
    "mean((pred.gam-test$Walc)^2)\n",
    "summary(gam.m)"
   ]
  },
  {
   "cell_type": "code",
   "execution_count": null,
   "metadata": {},
   "outputs": [],
   "source": [
    "CVgam(formula, data=train, nfold = 10, method = \"GCV.Cp\",\n",
    "              printit = TRUE, seed = 2036125)"
   ]
  },
  {
   "cell_type": "code",
   "execution_count": null,
   "metadata": {},
   "outputs": [],
   "source": []
  },
  {
   "cell_type": "code",
   "execution_count": null,
   "metadata": {},
   "outputs": [],
   "source": []
  },
  {
   "cell_type": "markdown",
   "metadata": {},
   "source": [
    "# Méthodes d'arbres (CART)\n",
    "Le code de base est écrit pour \n",
    "* arbres de régression\n",
    "* bagging\n",
    "* boosting\n",
    "* random forest"
   ]
  },
  {
   "cell_type": "markdown",
   "metadata": {},
   "source": [
    "**Message d'avertissement dans random forest** : comme on a 5 classes, on nous conseille d'utiliser des arbre de classification plutot que de régression.  \n",
    "Peut être qu'il faut faire pareil avec toutes nos méthodes?  "
   ]
  },
  {
   "cell_type": "code",
   "execution_count": 47,
   "metadata": {},
   "outputs": [],
   "source": [
    "library(tree)"
   ]
  },
  {
   "cell_type": "code",
   "execution_count": 48,
   "metadata": {},
   "outputs": [],
   "source": [
    "indWalc = which(\"Walc\"==colnames(train))\n",
    "y.test = test[,indWalc]"
   ]
  },
  {
   "cell_type": "markdown",
   "metadata": {},
   "source": [
    "## Arbres de régression"
   ]
  },
  {
   "cell_type": "code",
   "execution_count": null,
   "metadata": {},
   "outputs": [],
   "source": [
    "tree.simple = tree(Walc~., data=train)\n",
    "summary(tree.simple)"
   ]
  },
  {
   "cell_type": "code",
   "execution_count": null,
   "metadata": {},
   "outputs": [],
   "source": [
    "plot(tree.simple)\n",
    "text(tree.simple, pretty=1)"
   ]
  },
  {
   "cell_type": "code",
   "execution_count": null,
   "metadata": {},
   "outputs": [],
   "source": [
    "cv.tree.simple = cv.tree(tree.simple)\n",
    "plot(cv.tree.simple$size ,cv.tree.simple$dev ,type='b')"
   ]
  },
  {
   "cell_type": "code",
   "execution_count": null,
   "metadata": {},
   "outputs": [],
   "source": [
    "prune.simple = prune.tree(tree.simple ,best=5)\n",
    "plot(prune.simple)\n",
    "text(prune.simple, pretty=0) "
   ]
  },
  {
   "cell_type": "code",
   "execution_count": null,
   "metadata": {},
   "outputs": [],
   "source": [
    "yhat = predict(tree.simple ,newdata = test)\n",
    "#plot(yhat ,y.test)\n",
    "#abline(0,1)\n",
    "cat('Erreur arbre \"simple\" :', mean((yhat -y.test)^2)) "
   ]
  },
  {
   "cell_type": "code",
   "execution_count": null,
   "metadata": {},
   "outputs": [],
   "source": [
    "yhat2 = predict(prune.simple ,newdata = test)\n",
    "cat('Erreur arbre élagué :', mean((yhat2 -y.test)^2))"
   ]
  },
  {
   "cell_type": "markdown",
   "metadata": {},
   "source": [
    "## Bagging et Random Forest"
   ]
  },
  {
   "cell_type": "code",
   "execution_count": 49,
   "metadata": {},
   "outputs": [],
   "source": [
    "library(randomForest)"
   ]
  },
  {
   "cell_type": "code",
   "execution_count": null,
   "metadata": {},
   "outputs": [],
   "source": [
    "set.seed(2036125)\n",
    "\n",
    "# Bagging\n",
    "bag.Walc = randomForest(Walc~., data=train, mtry=32, ntree = 500, importance=TRUE)\n",
    "bag.Walc"
   ]
  },
  {
   "cell_type": "code",
   "execution_count": null,
   "metadata": {},
   "outputs": [],
   "source": [
    "yhat.bag = predict(bag.Walc, newdata=test)\n",
    "#plot(yhat.bag , y.test)\n",
    "#abline(0,1)\n",
    "mean((yhat.bag - y.test)^2)"
   ]
  },
  {
   "cell_type": "code",
   "execution_count": 60,
   "metadata": {},
   "outputs": [
    {
     "name": "stderr",
     "output_type": "stream",
     "text": [
      "Warning message in randomForest.default(m, y, ...):\n",
      "\"The response has five or fewer unique values.  Are you sure you want to do regression?\""
     ]
    },
    {
     "data": {
      "text/html": [
       "1.12400361382385"
      ],
      "text/latex": [
       "1.12400361382385"
      ],
      "text/markdown": [
       "1.12400361382385"
      ],
      "text/plain": [
       "[1] 1.124004"
      ]
     },
     "metadata": {},
     "output_type": "display_data"
    }
   ],
   "source": [
    "set.seed(2036125)\n",
    "\n",
    "# Random Forest (regression)\n",
    "rf.Walc = randomForest(Walc~., data=train, mtry=11, ntree = 1500, importance=TRUE)\n",
    "yhat.rf = predict(rf.Walc, newdata=test)\n",
    "mean((yhat.rf - y.test)^2) "
   ]
  },
  {
   "cell_type": "code",
   "execution_count": null,
   "metadata": {
    "scrolled": false
   },
   "outputs": [],
   "source": [
    "plot(rf.Walc$mse, type = \"l\", xlab = \"nombre d'arbres\", ylab = \"MSE OOB\")"
   ]
  },
  {
   "cell_type": "code",
   "execution_count": null,
   "metadata": {
    "scrolled": true
   },
   "outputs": [],
   "source": [
    "v1 = 5\n",
    "v2 = 15\n",
    "nt = 1000\n",
    "var_max = v1:v2\n",
    "mse_OBB = matrix('numeric', ncol = v2-v1+1, nrow = nt)\n",
    "\n",
    "for (i in 1:(v2-v1+1)){\n",
    "    p = var_max[i]\n",
    "    set.seed(2036125)\n",
    "    rf = randomForest(Walc~., data=train, mtry=p, ntree = nt, importance=TRUE)\n",
    "    mse_OBB[,i] = rf$mse\n",
    "}"
   ]
  },
  {
   "cell_type": "code",
   "execution_count": null,
   "metadata": {
    "scrolled": false
   },
   "outputs": [],
   "source": [
    "matplot(mse_OBB[100:nt,], type = \"l\", xlab = \"nombre d'arbres\", ylab = \"MSE OOB\", lty=1:(v2-v1+1))\n",
    "#legend(1:(v2-v1+1),)\n",
    "legend('topright', legend = var_max, col = 1:(v2-v1+1), lty=1:(v2-v1+1))"
   ]
  },
  {
   "cell_type": "code",
   "execution_count": null,
   "metadata": {},
   "outputs": [],
   "source": [
    "cat('la valeur optimale de mtry est', var_max[which.min(mse_OBB[1000,])])"
   ]
  },
  {
   "cell_type": "code",
   "execution_count": null,
   "metadata": {},
   "outputs": [],
   "source": [
    "set.seed(2036125)\n",
    "\n",
    "mtry_opt = var_max[which.min(mse_OBB[1000,])]\n",
    "# Random Forest (regression)\n",
    "rf.Walc = randomForest(Walc~., data=train, mtry = mtry_opt, ntree = nt, importance=TRUE)\n",
    "yhat.rf = predict(rf.Walc, newdata=test)\n",
    "mean((yhat.rf - y.test)^2) "
   ]
  },
  {
   "cell_type": "markdown",
   "metadata": {},
   "source": [
    "## Boosting\n",
    "* Essayer de faire varier les valeurs de *interaction.depth* et de *shrinkage* (qui vaut 0.2 par défaut)"
   ]
  },
  {
   "cell_type": "code",
   "execution_count": null,
   "metadata": {},
   "outputs": [],
   "source": []
  },
  {
   "cell_type": "code",
   "execution_count": null,
   "metadata": {},
   "outputs": [],
   "source": [
    "set.seed(2036125)\n",
    "boost.Walc = gbm(Walc~., data=train, distribution= \"gaussian\",n.trees=5000,interaction.depth=4)"
   ]
  },
  {
   "cell_type": "code",
   "execution_count": null,
   "metadata": {},
   "outputs": [],
   "source": [
    "summary(boost.Walc)"
   ]
  },
  {
   "cell_type": "code",
   "execution_count": null,
   "metadata": {},
   "outputs": [],
   "source": [
    "yhat.boost = predict(boost.Walc, newdata = test, n.trees=5000)\n",
    "mean((yhat.boost-y.test)^2) "
   ]
  },
  {
   "cell_type": "code",
   "execution_count": null,
   "metadata": {},
   "outputs": [],
   "source": [
    "hist(d$Walc)"
   ]
  },
  {
   "cell_type": "code",
   "execution_count": null,
   "metadata": {},
   "outputs": [],
   "source": []
  },
  {
   "cell_type": "code",
   "execution_count": null,
   "metadata": {},
   "outputs": [],
   "source": []
  },
  {
   "cell_type": "code",
   "execution_count": null,
   "metadata": {},
   "outputs": [],
   "source": []
  },
  {
   "cell_type": "code",
   "execution_count": null,
   "metadata": {},
   "outputs": [],
   "source": []
  },
  {
   "cell_type": "code",
   "execution_count": null,
   "metadata": {},
   "outputs": [],
   "source": []
  },
  {
   "cell_type": "markdown",
   "metadata": {},
   "source": [
    "# Arbres de classification"
   ]
  },
  {
   "cell_type": "code",
   "execution_count": 151,
   "metadata": {},
   "outputs": [
    {
     "name": "stderr",
     "output_type": "stream",
     "text": [
      "Loaded gbm 2.1.5\n"
     ]
    }
   ],
   "source": [
    "library(tree)\n",
    "library(randomForest)\n",
    "library(gbm)"
   ]
  },
  {
   "cell_type": "markdown",
   "metadata": {},
   "source": [
    "## Preparation des données"
   ]
  },
  {
   "cell_type": "markdown",
   "metadata": {},
   "source": [
    "A partir de notre dataset, nous cherchons à identifier les élèves ayant une consommation à risque durant le week end. Pour cela, nous allons créer 2 classes pour identifier le risque d'excès de boisson le week end : **low** et **high**.  \n",
    "Nous allons considérer que les élèves ayant Walc < 3 sont considérés comme ayant un risque **low**."
   ]
  },
  {
   "cell_type": "code",
   "execution_count": 48,
   "metadata": {},
   "outputs": [],
   "source": [
    "indWalc = which(\"Walc\"==colnames(train))\n",
    "y.test = test[,indWalc]"
   ]
  },
  {
   "cell_type": "code",
   "execution_count": 99,
   "metadata": {
    "scrolled": true
   },
   "outputs": [],
   "source": [
    "train_c = train\n",
    "y.test_c = y.test"
   ]
  },
  {
   "cell_type": "code",
   "execution_count": 100,
   "metadata": {},
   "outputs": [],
   "source": [
    "# on essaie de regrouper certaines classes\n",
    "train_c[, indWalc] = ifelse(train_c[, indWalc] < 4, 'low', 'high')\n",
    "y.test_c = ifelse(y.test_c < 4, 'low', 'high')"
   ]
  },
  {
   "cell_type": "code",
   "execution_count": 101,
   "metadata": {},
   "outputs": [],
   "source": [
    "train_c[, indWalc] = factor(train_c[, indWalc])\n",
    "y.test_c = factor(y.test_c)"
   ]
  },
  {
   "cell_type": "markdown",
   "metadata": {},
   "source": [
    "## Arbres simples et élagués"
   ]
  },
  {
   "cell_type": "markdown",
   "metadata": {},
   "source": [
    "Nous allons commençer par utiliser un arbre classique."
   ]
  },
  {
   "cell_type": "code",
   "execution_count": 103,
   "metadata": {},
   "outputs": [
    {
     "data": {
      "text/plain": [
       "\n",
       "Classification tree:\n",
       "tree(formula = Walc ~ ., data = train_c)\n",
       "Variables actually used in tree construction:\n",
       " [1] \"Dalc\"       \"goout\"      \"G2\"         \"paid\"       \"famrel\"    \n",
       " [6] \"Mjob\"       \"age\"        \"health\"     \"freetime\"   \"reason\"    \n",
       "[11] \"sex\"        \"traveltime\" \"Fjob\"       \"G3\"         \"famsize\"   \n",
       "Number of terminal nodes:  20 \n",
       "Residual mean deviance:  0.4281 = 205.5 / 480 \n",
       "Misclassification error rate: 0.094 = 47 / 500 "
      ]
     },
     "metadata": {},
     "output_type": "display_data"
    },
    {
     "data": {
      "image/png": "[encoded data removed]",
      "text/plain": [
       "plot without title"
      ]
     },
     "metadata": {},
     "output_type": "display_data"
    }
   ],
   "source": [
    "tree.class = tree(Walc∼., train_c)\n",
    "summary(tree.class)\n",
    "\n",
    "plot(tree.class)\n",
    "text(tree.class ,pretty =0)"
   ]
  },
  {
   "cell_type": "code",
   "execution_count": 104,
   "metadata": {},
   "outputs": [
    {
     "data": {
      "text/plain": [
       "         y.test_c\n",
       "tree.pred high low\n",
       "     high   15  15\n",
       "     low    12 107"
      ]
     },
     "metadata": {},
     "output_type": "display_data"
    },
    {
     "name": "stdout",
     "output_type": "stream",
     "text": [
      "taux de mauvaise classification : 0.1812081"
     ]
    }
   ],
   "source": [
    "tree.pred = predict(tree.class ,test, type=\"class\")\n",
    "res = table(tree.pred, y.test_c)\n",
    "res\n",
    "cat(\"taux de mauvaise classification :\", 1 - sum(diag(res))/149)"
   ]
  },
  {
   "cell_type": "markdown",
   "metadata": {},
   "source": [
    "Nous pouvons constater que nous obtenons un taux d'erreur assez correct. Cependant, l'arbre obtenu est assez compliqué, ce qui nuit à l'interprétabilité du résultat. Nous allons donc chercher à élager cet arbre pour le simplifier, en espérant en plus obtenir un meilleur taux de classification."
   ]
  },
  {
   "cell_type": "code",
   "execution_count": 105,
   "metadata": {},
   "outputs": [
    {
     "data": {
      "text/plain": [
       "$size\n",
       "[1] 20 11  8  6  5  3  1\n",
       "\n",
       "$dev\n",
       "[1]  76  74  75  76  75  74 108\n",
       "\n",
       "$k\n",
       "[1]      -Inf  0.000000  1.333333  1.500000  3.000000  4.000000 20.000000\n",
       "\n",
       "$method\n",
       "[1] \"misclass\"\n",
       "\n",
       "attr(,\"class\")\n",
       "[1] \"prune\"         \"tree.sequence\""
      ]
     },
     "metadata": {},
     "output_type": "display_data"
    }
   ],
   "source": [
    "set.seed(2036125)\n",
    "cv.tree.class =cv.tree(tree.class ,FUN=prune.misclass)\n",
    "cv.tree.class"
   ]
  },
  {
   "cell_type": "code",
   "execution_count": 106,
   "metadata": {},
   "outputs": [
    {
     "data": {
      "image/png": "[encoded data removed]",
      "text/plain": [
       "plot without title"
      ]
     },
     "metadata": {},
     "output_type": "display_data"
    }
   ],
   "source": [
    "par(mfrow=c(1,2))\n",
    "plot(cv.tree.class$size ,cv.tree.class$dev ,type=\"b\")\n",
    "plot(cv.tree.class$k ,cv.tree.class$dev ,type=\"b\") "
   ]
  },
  {
   "cell_type": "markdown",
   "metadata": {},
   "source": [
    "En étudiant les graphiques ci dessus, on peut constater que nous devons choisir 3 noeuds terminaux."
   ]
  },
  {
   "cell_type": "code",
   "execution_count": 145,
   "metadata": {},
   "outputs": [
    {
     "data": {
      "image/png": "[encoded data removed]",
      "text/plain": [
       "plot without title"
      ]
     },
     "metadata": {},
     "output_type": "display_data"
    }
   ],
   "source": [
    "prune.class = prune.misclass (tree.class ,best=3)\n",
    "plot(prune.class)\n",
    "text(prune.class ,pretty =0)"
   ]
  },
  {
   "cell_type": "code",
   "execution_count": 146,
   "metadata": {},
   "outputs": [
    {
     "data": {
      "text/plain": [
       "         y.test_c\n",
       "tree.pred high low\n",
       "     high   12  12\n",
       "     low    15 110"
      ]
     },
     "metadata": {},
     "output_type": "display_data"
    },
    {
     "name": "stdout",
     "output_type": "stream",
     "text": [
      "taux de mauvaise classification : 0.1812081"
     ]
    }
   ],
   "source": [
    "tree.pred = predict(prune.class ,test, type=\"class\")\n",
    "res = table(tree.pred, y.test_c)\n",
    "\n",
    "res\n",
    "cat(\"taux de mauvaise classification :\", 1 - sum(diag(res))/149)"
   ]
  },
  {
   "cell_type": "markdown",
   "metadata": {},
   "source": [
    "On constate que nous conservons le même taux d'erreur. cependant, ce taux est obtenu avec un modèle plus simple, ce qui facilte l'interprétation des réultats."
   ]
  },
  {
   "cell_type": "markdown",
   "metadata": {},
   "source": [
    "## Bagging"
   ]
  },
  {
   "cell_type": "markdown",
   "metadata": {},
   "source": [
    "Nous allons maintenant essayer d'améliorer nos résultats en appliquant une méthode de bagging."
   ]
  },
  {
   "cell_type": "code",
   "execution_count": 136,
   "metadata": {},
   "outputs": [
    {
     "data": {
      "text/plain": [
       "\n",
       "Call:\n",
       " randomForest(formula = Walc ~ ., data = train_c, mtry = dim(train_c)[2] -      1, importance = TRUE) \n",
       "               Type of random forest: classification\n",
       "                     Number of trees: 500\n",
       "No. of variables tried at each split: 32\n",
       "\n",
       "        OOB estimate of  error rate: 13.2%\n",
       "Confusion matrix:\n",
       "     high low class.error\n",
       "high   63  42  0.40000000\n",
       "low    24 371  0.06075949"
      ]
     },
     "metadata": {},
     "output_type": "display_data"
    },
    {
     "name": "stdout",
     "output_type": "stream",
     "text": [
      "taux de mauvaise classification sur les données de test: 0.1409396"
     ]
    }
   ],
   "source": [
    "# calcul du modele\n",
    "set.seed(2036125)\n",
    "rf.Walc = randomForest(Walc~., data=train_c, mtry=dim(train_c)[2] - 1, importance=TRUE)\n",
    "\n",
    "# estimations sur l'ensemble de test\n",
    "tree.pred = predict(rf.Walc ,test, type=\"class\")\n",
    "res = table(tree.pred, y.test_c)\n",
    "\n",
    "# affichage des résultats\n",
    "rf.Walc\n",
    "cat(\"taux de mauvaise classification sur les données de test:\", 1 - sum(diag(res))/149)"
   ]
  },
  {
   "cell_type": "markdown",
   "metadata": {},
   "source": [
    "On peut constater que le bagging nous permet d'améliorer nos résultats et d'obtenir un meilleur taux d'erreur."
   ]
  },
  {
   "cell_type": "markdown",
   "metadata": {},
   "source": [
    "## Random Forest"
   ]
  },
  {
   "cell_type": "markdown",
   "metadata": {},
   "source": [
    "Nous allons maintenant appliquer la méthode des random forest. Pour commencer, nous allons fixer *mtry = 6* car cela correspond à la racine du nombre de variables."
   ]
  },
  {
   "cell_type": "code",
   "execution_count": 109,
   "metadata": {
    "scrolled": false
   },
   "outputs": [
    {
     "data": {
      "text/plain": [
       "\n",
       "Call:\n",
       " randomForest(formula = Walc ~ ., data = train_c, mtry = 6, importance = TRUE) \n",
       "               Type of random forest: classification\n",
       "                     Number of trees: 500\n",
       "No. of variables tried at each split: 6\n",
       "\n",
       "        OOB estimate of  error rate: 11.8%\n",
       "Confusion matrix:\n",
       "     high low class.error\n",
       "high   56  49  0.46666667\n",
       "low    10 385  0.02531646"
      ]
     },
     "metadata": {},
     "output_type": "display_data"
    },
    {
     "name": "stdout",
     "output_type": "stream",
     "text": [
      "taux de mauvaise classification sur les données de test: 0.1610738"
     ]
    }
   ],
   "source": [
    "# calcul du modele\n",
    "set.seed(2036125)\n",
    "rf.Walc = randomForest(Walc~., data=train_c, mtry=6, importance=TRUE)\n",
    "\n",
    "# estimations sur l'ensemble de test\n",
    "tree.pred = predict(rf.Walc ,test, type=\"class\")\n",
    "res = table(tree.pred, y.test_c)\n",
    "\n",
    "# affichage des résultats\n",
    "rf.Walc\n",
    "cat(\"taux de mauvaise classification sur les données de test:\", 1 - sum(diag(res))/149)"
   ]
  },
  {
   "cell_type": "markdown",
   "metadata": {},
   "source": [
    "On peut voir que cette méthode permet d'avoir de meilleurs résultats que les arbres classiques, mais cela ne permet pas pour l'instant d'être plus efficace que le bagging.  \n",
    "Nous allons donc chercher à optimiser les choix des hyperparamètres *mtry* et *ntree*."
   ]
  },
  {
   "cell_type": "markdown",
   "metadata": {},
   "source": [
    "## Optimisation des hyperparametres"
   ]
  },
  {
   "cell_type": "markdown",
   "metadata": {},
   "source": [
    "Pour choisir correctement *ntree*, nous allons fixer une valeur de *mtry*, et effectuer un grand nombre d'itérations pour voir quand le résultat du taux d'erreur OOB se stabilise."
   ]
  },
  {
   "cell_type": "code",
   "execution_count": 148,
   "metadata": {},
   "outputs": [
    {
     "name": "stdout",
     "output_type": "stream",
     "text": [
      "taux de mauvaise classification sur les données de test: 0.1409396"
     ]
    }
   ],
   "source": [
    "# calcul du modele\n",
    "set.seed(2036125)\n",
    "rf.Walc = randomForest(Walc~., data=train_c, mtry=11, ntree = 4000, importance=TRUE)\n",
    "\n",
    "# estimations sur l'ensemble de test\n",
    "yhat.rf = predict(rf.Walc, newdata=test)\n",
    "res = table(yhat.rf, y.test_c)\n",
    "\n",
    "# affichage des résultats\n",
    "cat(\"taux de mauvaise classification sur les données de test:\", 1 - sum(diag(res))/149)"
   ]
  },
  {
   "cell_type": "code",
   "execution_count": 149,
   "metadata": {
    "scrolled": false
   },
   "outputs": [
    {
     "data": {
      "image/png": "[encoded data removed]",
      "text/plain": [
       "plot without title"
      ]
     },
     "metadata": {},
     "output_type": "display_data"
    }
   ],
   "source": [
    "plot(rf.Walc$err.rate[,1], type = \"l\", xlab = \"nombre d'arbres\", ylab = \"erreur OOB\")"
   ]
  },
  {
   "cell_type": "markdown",
   "metadata": {},
   "source": [
    "On constate que le résultat des random forest semble avoir convergé au bout de 2500/3000 itérations.    \n",
    "<span style='color:red'>EST CE QUE LE RESULTAT DES RANDOM FOREST CONVERGE QUAND LE NOMBRE DE REPETITIONS TEND VERS L\\'INFINI COMME POUR LE BAGGING?  \n",
    "OU BIEN EST CE QU'ON A DU SURAPPRENTISSAGE?</span>"
   ]
  },
  {
   "cell_type": "code",
   "execution_count": 131,
   "metadata": {
    "scrolled": true
   },
   "outputs": [],
   "source": [
    "# initialisation des variables\n",
    "v1 = 1\n",
    "v2 = 15\n",
    "nt = 3000\n",
    "var_max = v1:v2\n",
    "taux_OBB = matrix('numeric', ncol = v2-v1+1, nrow = nt)\n",
    "\n",
    "for (i in 1:(v2-v1+1)){\n",
    "    \n",
    "    p = var_max[i]\n",
    "    # calcul du modele\n",
    "    set.seed(2036125)\n",
    "    rf = randomForest(Walc~., data=train_c, mtry=p, ntree = nt, importance=TRUE)\n",
    "    \n",
    "    # taux d'erreur de classification\n",
    "    taux_OBB[,i] = rf$err.rate[,1]\n",
    "}"
   ]
  },
  {
   "cell_type": "code",
   "execution_count": 132,
   "metadata": {
    "scrolled": false
   },
   "outputs": [
    {
     "data": {
      "image/png": "[encoded data removed]",
      "text/plain": [
       "Plot with title \"Taux d'erreur en fonction de\n",
       "l'hyperparamètre mtry\""
      ]
     },
     "metadata": {},
     "output_type": "display_data"
    }
   ],
   "source": [
    "# Affichage\n",
    "matplot(taux_OBB[1:nt,], type = \"l\", main=\"Taux d'erreur en fonction de\\nl'hyperparamètre mtry\",\n",
    "        xlab = \"nombre d'arbres\", ylab = \"taux erreur OOB\", lty=1)\n",
    "legend('topright', legend = var_max, col = var_max, lty=1)"
   ]
  },
  {
   "cell_type": "code",
   "execution_count": 133,
   "metadata": {},
   "outputs": [
    {
     "name": "stdout",
     "output_type": "stream",
     "text": [
      "la valeur optimale de mtry est 5"
     ]
    }
   ],
   "source": [
    " = which.min(taux_OBB[nt,])\n",
    "cat('la valeur optimale de mtry est', mtry_opt)"
   ]
  },
  {
   "cell_type": "markdown",
   "metadata": {},
   "source": [
    "Nous allons maintenant réappliquer nos random forest avec les valeurs d'hyperparamètres trouvées précédemment"
   ]
  },
  {
   "cell_type": "code",
   "execution_count": 134,
   "metadata": {},
   "outputs": [
    {
     "data": {
      "text/plain": [
       "\n",
       "Call:\n",
       " randomForest(formula = Walc ~ ., data = train_c, mtry = mtry_opt,      ntree = nt, importance = TRUE) \n",
       "               Type of random forest: classification\n",
       "                     Number of trees: 3000\n",
       "No. of variables tried at each split: 5\n",
       "\n",
       "        OOB estimate of  error rate: 11.8%\n",
       "Confusion matrix:\n",
       "     high low class.error\n",
       "high   53  52  0.49523810\n",
       "low     7 388  0.01772152"
      ]
     },
     "metadata": {},
     "output_type": "display_data"
    },
    {
     "name": "stdout",
     "output_type": "stream",
     "text": [
      "taux de mauvaise classification sur les données de test: 0.1610738"
     ]
    }
   ],
   "source": [
    "# calcul du modele\n",
    "set.seed(2036125)\n",
    "rf.Walc = randomForest(Walc~., data=train_c, mtry = mtry_opt, ntree = 2500, importance=TRUE)\n",
    "\n",
    "# estimations sur l'ensemble de test\n",
    "yhat.rf = predict(rf.Walc, newdata=test)\n",
    "res = table(yhat.rf, y.test_c)\n",
    "\n",
    "# affichage des résultats\n",
    "rf.Walc\n",
    "cat(\"taux de mauvaise classification sur les données de test:\", 1 - sum(diag(res))/149)"
   ]
  },
  {
   "cell_type": "markdown",
   "metadata": {},
   "source": [
    "On constate que cela n'améliore pas les résultats de la méthode des random forests"
   ]
  },
  {
   "cell_type": "markdown",
   "metadata": {},
   "source": [
    "## Boosting"
   ]
  },
  {
   "cell_type": "markdown",
   "metadata": {},
   "source": [
    "<span style='color:red'>TODO</span>\n",
    "* Pour l'instant, il y a une erreur dans le boosting\n",
    "* Essayer de faire varier les valeurs de *interaction.depth* et de *shrinkage* (qui vaut 0.2 par défaut)"
   ]
  },
  {
   "cell_type": "code",
   "execution_count": 160,
   "metadata": {},
   "outputs": [],
   "source": [
    "# on convertit les valeurs en 0 et 1 pour la fonction gbm\n",
    "train_c[, indWalc] = ifelse(train_c[, indWalc] == 'low', 0, 1)\n",
    "y.test_c = ifelse(y.test_c == 'low', 0, 1)"
   ]
  },
  {
   "cell_type": "code",
   "execution_count": 165,
   "metadata": {},
   "outputs": [],
   "source": [
    "# calcul du modele\n",
    "set.seed(2036125)\n",
    "boost.Walc = gbm(Walc~., data=train_c, distribution= \"bernoulli\",\n",
    "                 n.trees=5000,interaction.depth=4)\n",
    "\n",
    "# estimations sur l'ensemble de test\n",
    "yhat.boost = predict(boost.Walc, newdata=test, n.trees=5000)\n",
    "res = table(yhat.boost, y.test_c)\n",
    "\n",
    "# affichage des résultats\n",
    "boost.Walc\n",
    "res\n",
    "cat(\"taux de mauvaise classification sur les données de test:\", 1 - sum(diag(res))/149)"
   ]
  }
 ],
 "metadata": {
  "kernelspec": {
   "display_name": "R",
   "language": "R",
   "name": "ir"
  },
  "language_info": {
   "codemirror_mode": "r",
   "file_extension": ".r",
   "mimetype": "text/x-r-source",
   "name": "R",
   "pygments_lexer": "r",
   "version": "3.6.1"
  }
 },
 "nbformat": 4,
 "nbformat_minor": 2
}
